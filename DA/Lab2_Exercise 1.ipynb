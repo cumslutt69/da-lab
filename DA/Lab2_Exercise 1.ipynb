{
 "cells": [
  {
   "cell_type": "code",
   "execution_count": 96,
   "metadata": {},
   "outputs": [],
   "source": [
    "import pandas as pd"
   ]
  },
  {
   "cell_type": "code",
   "execution_count": 97,
   "metadata": {},
   "outputs": [],
   "source": [
    "#1.Create a data frame with details of 10 students and columns as Roll Number, Name, Gender, Marks1, Marks2, Marks3."
   ]
  },
  {
   "cell_type": "code",
   "execution_count": 98,
   "metadata": {},
   "outputs": [],
   "source": [
    "marks={'Roll Number':[1,2,3,4,5,6,7,8,9,10],'Name':['Abhigyan','Jash','Uday','Susanth','Lakshay','Aditi','Rahul','Ankita','Priya','Ananya'],'Gender':['Male','Male','Male','Male','Male','Female','Male','Female','Female','Female'],'Marks1':[89,77,92,67,90,46,71,34,82,78],'Marks2':[74,88,95,58,33,39,96,80,66,78],'Marks3':[90,88,67,78,35,98,76,83,90,86]}"
   ]
  },
  {
   "cell_type": "code",
   "execution_count": 99,
   "metadata": {},
   "outputs": [
    {
     "data": {
      "text/html": [
       "<div>\n",
       "<style scoped>\n",
       "    .dataframe tbody tr th:only-of-type {\n",
       "        vertical-align: middle;\n",
       "    }\n",
       "\n",
       "    .dataframe tbody tr th {\n",
       "        vertical-align: top;\n",
       "    }\n",
       "\n",
       "    .dataframe thead th {\n",
       "        text-align: right;\n",
       "    }\n",
       "</style>\n",
       "<table border=\"1\" class=\"dataframe\">\n",
       "  <thead>\n",
       "    <tr style=\"text-align: right;\">\n",
       "      <th></th>\n",
       "      <th>Roll Number</th>\n",
       "      <th>Name</th>\n",
       "      <th>Gender</th>\n",
       "      <th>Marks1</th>\n",
       "      <th>Marks2</th>\n",
       "      <th>Marks3</th>\n",
       "    </tr>\n",
       "  </thead>\n",
       "  <tbody>\n",
       "    <tr>\n",
       "      <th>0</th>\n",
       "      <td>1</td>\n",
       "      <td>Abhigyan</td>\n",
       "      <td>Male</td>\n",
       "      <td>89</td>\n",
       "      <td>74</td>\n",
       "      <td>90</td>\n",
       "    </tr>\n",
       "    <tr>\n",
       "      <th>1</th>\n",
       "      <td>2</td>\n",
       "      <td>Jash</td>\n",
       "      <td>Male</td>\n",
       "      <td>77</td>\n",
       "      <td>88</td>\n",
       "      <td>88</td>\n",
       "    </tr>\n",
       "    <tr>\n",
       "      <th>2</th>\n",
       "      <td>3</td>\n",
       "      <td>Uday</td>\n",
       "      <td>Male</td>\n",
       "      <td>92</td>\n",
       "      <td>95</td>\n",
       "      <td>67</td>\n",
       "    </tr>\n",
       "    <tr>\n",
       "      <th>3</th>\n",
       "      <td>4</td>\n",
       "      <td>Susanth</td>\n",
       "      <td>Male</td>\n",
       "      <td>67</td>\n",
       "      <td>58</td>\n",
       "      <td>78</td>\n",
       "    </tr>\n",
       "    <tr>\n",
       "      <th>4</th>\n",
       "      <td>5</td>\n",
       "      <td>Lakshay</td>\n",
       "      <td>Male</td>\n",
       "      <td>90</td>\n",
       "      <td>33</td>\n",
       "      <td>35</td>\n",
       "    </tr>\n",
       "    <tr>\n",
       "      <th>5</th>\n",
       "      <td>6</td>\n",
       "      <td>Aditi</td>\n",
       "      <td>Female</td>\n",
       "      <td>46</td>\n",
       "      <td>39</td>\n",
       "      <td>98</td>\n",
       "    </tr>\n",
       "    <tr>\n",
       "      <th>6</th>\n",
       "      <td>7</td>\n",
       "      <td>Rahul</td>\n",
       "      <td>Male</td>\n",
       "      <td>71</td>\n",
       "      <td>96</td>\n",
       "      <td>76</td>\n",
       "    </tr>\n",
       "    <tr>\n",
       "      <th>7</th>\n",
       "      <td>8</td>\n",
       "      <td>Ankita</td>\n",
       "      <td>Female</td>\n",
       "      <td>34</td>\n",
       "      <td>80</td>\n",
       "      <td>83</td>\n",
       "    </tr>\n",
       "    <tr>\n",
       "      <th>8</th>\n",
       "      <td>9</td>\n",
       "      <td>Priya</td>\n",
       "      <td>Female</td>\n",
       "      <td>82</td>\n",
       "      <td>66</td>\n",
       "      <td>90</td>\n",
       "    </tr>\n",
       "    <tr>\n",
       "      <th>9</th>\n",
       "      <td>10</td>\n",
       "      <td>Ananya</td>\n",
       "      <td>Female</td>\n",
       "      <td>78</td>\n",
       "      <td>78</td>\n",
       "      <td>86</td>\n",
       "    </tr>\n",
       "  </tbody>\n",
       "</table>\n",
       "</div>"
      ],
      "text/plain": [
       "   Roll Number      Name  Gender  Marks1  Marks2  Marks3\n",
       "0            1  Abhigyan    Male      89      74      90\n",
       "1            2      Jash    Male      77      88      88\n",
       "2            3      Uday    Male      92      95      67\n",
       "3            4   Susanth    Male      67      58      78\n",
       "4            5   Lakshay    Male      90      33      35\n",
       "5            6     Aditi  Female      46      39      98\n",
       "6            7     Rahul    Male      71      96      76\n",
       "7            8    Ankita  Female      34      80      83\n",
       "8            9     Priya  Female      82      66      90\n",
       "9           10    Ananya  Female      78      78      86"
      ]
     },
     "execution_count": 99,
     "metadata": {},
     "output_type": "execute_result"
    }
   ],
   "source": [
    "df=pd.DataFrame(marks)\n",
    "df"
   ]
  },
  {
   "cell_type": "code",
   "execution_count": 100,
   "metadata": {},
   "outputs": [],
   "source": [
    "#2.Create a new column with total marks"
   ]
  },
  {
   "cell_type": "code",
   "execution_count": 101,
   "metadata": {},
   "outputs": [],
   "source": [
    "df['Total Marks']=df['Marks1']+df['Marks2']+df['Marks3']"
   ]
  },
  {
   "cell_type": "code",
   "execution_count": 102,
   "metadata": {},
   "outputs": [
    {
     "data": {
      "text/html": [
       "<div>\n",
       "<style scoped>\n",
       "    .dataframe tbody tr th:only-of-type {\n",
       "        vertical-align: middle;\n",
       "    }\n",
       "\n",
       "    .dataframe tbody tr th {\n",
       "        vertical-align: top;\n",
       "    }\n",
       "\n",
       "    .dataframe thead th {\n",
       "        text-align: right;\n",
       "    }\n",
       "</style>\n",
       "<table border=\"1\" class=\"dataframe\">\n",
       "  <thead>\n",
       "    <tr style=\"text-align: right;\">\n",
       "      <th></th>\n",
       "      <th>Roll Number</th>\n",
       "      <th>Name</th>\n",
       "      <th>Gender</th>\n",
       "      <th>Marks1</th>\n",
       "      <th>Marks2</th>\n",
       "      <th>Marks3</th>\n",
       "      <th>Total Marks</th>\n",
       "    </tr>\n",
       "  </thead>\n",
       "  <tbody>\n",
       "    <tr>\n",
       "      <th>0</th>\n",
       "      <td>1</td>\n",
       "      <td>Abhigyan</td>\n",
       "      <td>Male</td>\n",
       "      <td>89</td>\n",
       "      <td>74</td>\n",
       "      <td>90</td>\n",
       "      <td>253</td>\n",
       "    </tr>\n",
       "    <tr>\n",
       "      <th>1</th>\n",
       "      <td>2</td>\n",
       "      <td>Jash</td>\n",
       "      <td>Male</td>\n",
       "      <td>77</td>\n",
       "      <td>88</td>\n",
       "      <td>88</td>\n",
       "      <td>253</td>\n",
       "    </tr>\n",
       "    <tr>\n",
       "      <th>2</th>\n",
       "      <td>3</td>\n",
       "      <td>Uday</td>\n",
       "      <td>Male</td>\n",
       "      <td>92</td>\n",
       "      <td>95</td>\n",
       "      <td>67</td>\n",
       "      <td>254</td>\n",
       "    </tr>\n",
       "    <tr>\n",
       "      <th>3</th>\n",
       "      <td>4</td>\n",
       "      <td>Susanth</td>\n",
       "      <td>Male</td>\n",
       "      <td>67</td>\n",
       "      <td>58</td>\n",
       "      <td>78</td>\n",
       "      <td>203</td>\n",
       "    </tr>\n",
       "    <tr>\n",
       "      <th>4</th>\n",
       "      <td>5</td>\n",
       "      <td>Lakshay</td>\n",
       "      <td>Male</td>\n",
       "      <td>90</td>\n",
       "      <td>33</td>\n",
       "      <td>35</td>\n",
       "      <td>158</td>\n",
       "    </tr>\n",
       "    <tr>\n",
       "      <th>5</th>\n",
       "      <td>6</td>\n",
       "      <td>Aditi</td>\n",
       "      <td>Female</td>\n",
       "      <td>46</td>\n",
       "      <td>39</td>\n",
       "      <td>98</td>\n",
       "      <td>183</td>\n",
       "    </tr>\n",
       "    <tr>\n",
       "      <th>6</th>\n",
       "      <td>7</td>\n",
       "      <td>Rahul</td>\n",
       "      <td>Male</td>\n",
       "      <td>71</td>\n",
       "      <td>96</td>\n",
       "      <td>76</td>\n",
       "      <td>243</td>\n",
       "    </tr>\n",
       "    <tr>\n",
       "      <th>7</th>\n",
       "      <td>8</td>\n",
       "      <td>Ankita</td>\n",
       "      <td>Female</td>\n",
       "      <td>34</td>\n",
       "      <td>80</td>\n",
       "      <td>83</td>\n",
       "      <td>197</td>\n",
       "    </tr>\n",
       "    <tr>\n",
       "      <th>8</th>\n",
       "      <td>9</td>\n",
       "      <td>Priya</td>\n",
       "      <td>Female</td>\n",
       "      <td>82</td>\n",
       "      <td>66</td>\n",
       "      <td>90</td>\n",
       "      <td>238</td>\n",
       "    </tr>\n",
       "    <tr>\n",
       "      <th>9</th>\n",
       "      <td>10</td>\n",
       "      <td>Ananya</td>\n",
       "      <td>Female</td>\n",
       "      <td>78</td>\n",
       "      <td>78</td>\n",
       "      <td>86</td>\n",
       "      <td>242</td>\n",
       "    </tr>\n",
       "  </tbody>\n",
       "</table>\n",
       "</div>"
      ],
      "text/plain": [
       "   Roll Number      Name  Gender  Marks1  Marks2  Marks3  Total Marks\n",
       "0            1  Abhigyan    Male      89      74      90          253\n",
       "1            2      Jash    Male      77      88      88          253\n",
       "2            3      Uday    Male      92      95      67          254\n",
       "3            4   Susanth    Male      67      58      78          203\n",
       "4            5   Lakshay    Male      90      33      35          158\n",
       "5            6     Aditi  Female      46      39      98          183\n",
       "6            7     Rahul    Male      71      96      76          243\n",
       "7            8    Ankita  Female      34      80      83          197\n",
       "8            9     Priya  Female      82      66      90          238\n",
       "9           10    Ananya  Female      78      78      86          242"
      ]
     },
     "execution_count": 102,
     "metadata": {},
     "output_type": "execute_result"
    }
   ],
   "source": [
    "df"
   ]
  },
  {
   "cell_type": "code",
   "execution_count": 103,
   "metadata": {},
   "outputs": [],
   "source": [
    "#3.Find the lowest marks in Marks1"
   ]
  },
  {
   "cell_type": "code",
   "execution_count": 104,
   "metadata": {},
   "outputs": [
    {
     "name": "stdout",
     "output_type": "stream",
     "text": [
      "The lowest marks in Marks1 is  34\n"
     ]
    }
   ],
   "source": [
    "print(\"The lowest marks in Marks1 is \",df['Marks1'].min())"
   ]
  },
  {
   "cell_type": "code",
   "execution_count": 105,
   "metadata": {},
   "outputs": [],
   "source": [
    "#4.Find the Highest marks in Marks2"
   ]
  },
  {
   "cell_type": "code",
   "execution_count": 106,
   "metadata": {},
   "outputs": [
    {
     "name": "stdout",
     "output_type": "stream",
     "text": [
      "The highest marks in Marks2 is  96\n"
     ]
    }
   ],
   "source": [
    "print(\"The highest marks in Marks2 is \",df['Marks2'].max())"
   ]
  },
  {
   "cell_type": "code",
   "execution_count": 107,
   "metadata": {},
   "outputs": [],
   "source": [
    "#5.Find the average marks in Marks3"
   ]
  },
  {
   "cell_type": "code",
   "execution_count": 108,
   "metadata": {},
   "outputs": [
    {
     "name": "stdout",
     "output_type": "stream",
     "text": [
      "The average marks in Marks3 is  79.1\n"
     ]
    }
   ],
   "source": [
    "print(\"The average marks in Marks3 is \",df['Marks3'].mean())"
   ]
  },
  {
   "cell_type": "code",
   "execution_count": 109,
   "metadata": {},
   "outputs": [],
   "source": [
    "#6.Find student name with highest average"
   ]
  },
  {
   "cell_type": "code",
   "execution_count": 110,
   "metadata": {},
   "outputs": [
    {
     "name": "stdout",
     "output_type": "stream",
     "text": [
      "The student with highest average is\n",
      " 2    Uday\n",
      "Name: Name, dtype: object\n"
     ]
    }
   ],
   "source": [
    "print(\"The student with highest average is\\n\",df[(df['Total Marks']/3)==(df['Total Marks']/3).max()]['Name'])"
   ]
  },
  {
   "cell_type": "code",
   "execution_count": 93,
   "metadata": {},
   "outputs": [],
   "source": [
    "#7.Find how many students failed in Marks2 (<40)"
   ]
  },
  {
   "cell_type": "code",
   "execution_count": 94,
   "metadata": {},
   "outputs": [
    {
     "data": {
      "text/html": [
       "<div>\n",
       "<style scoped>\n",
       "    .dataframe tbody tr th:only-of-type {\n",
       "        vertical-align: middle;\n",
       "    }\n",
       "\n",
       "    .dataframe tbody tr th {\n",
       "        vertical-align: top;\n",
       "    }\n",
       "\n",
       "    .dataframe thead th {\n",
       "        text-align: right;\n",
       "    }\n",
       "</style>\n",
       "<table border=\"1\" class=\"dataframe\">\n",
       "  <thead>\n",
       "    <tr style=\"text-align: right;\">\n",
       "      <th></th>\n",
       "      <th>Roll Number</th>\n",
       "      <th>Name</th>\n",
       "      <th>Gender</th>\n",
       "      <th>Marks1</th>\n",
       "      <th>Marks2</th>\n",
       "      <th>Marks3</th>\n",
       "      <th>Total Marks</th>\n",
       "    </tr>\n",
       "  </thead>\n",
       "  <tbody>\n",
       "    <tr>\n",
       "      <th>4</th>\n",
       "      <td>5</td>\n",
       "      <td>Lakshay</td>\n",
       "      <td>Male</td>\n",
       "      <td>90</td>\n",
       "      <td>33</td>\n",
       "      <td>35</td>\n",
       "      <td>158</td>\n",
       "    </tr>\n",
       "    <tr>\n",
       "      <th>5</th>\n",
       "      <td>6</td>\n",
       "      <td>Aditi</td>\n",
       "      <td>Female</td>\n",
       "      <td>46</td>\n",
       "      <td>39</td>\n",
       "      <td>98</td>\n",
       "      <td>183</td>\n",
       "    </tr>\n",
       "  </tbody>\n",
       "</table>\n",
       "</div>"
      ],
      "text/plain": [
       "   Roll Number     Name  Gender  Marks1  Marks2  Marks3  Total Marks\n",
       "4            5  Lakshay    Male      90      33      35          158\n",
       "5            6    Aditi  Female      46      39      98          183"
      ]
     },
     "execution_count": 94,
     "metadata": {},
     "output_type": "execute_result"
    }
   ],
   "source": [
    "df[df.Marks2<40]"
   ]
  },
  {
   "cell_type": "code",
   "execution_count": 95,
   "metadata": {},
   "outputs": [
    {
     "name": "stdout",
     "output_type": "stream",
     "text": [
      "Number of students that failed in Marks2 is  2\n"
     ]
    }
   ],
   "source": [
    "print(\"Number of students that failed in Marks2 is \",df[df.Marks2<40].shape[0])"
   ]
  },
  {
   "cell_type": "code",
   "execution_count": null,
   "metadata": {},
   "outputs": [],
   "source": []
  }
 ],
 "metadata": {
  "kernelspec": {
   "display_name": "Python 3",
   "language": "python",
   "name": "python3"
  },
  "language_info": {
   "codemirror_mode": {
    "name": "ipython",
    "version": 3
   },
   "file_extension": ".py",
   "mimetype": "text/x-python",
   "name": "python",
   "nbconvert_exporter": "python",
   "pygments_lexer": "ipython3",
   "version": "3.8.2"
  }
 },
 "nbformat": 4,
 "nbformat_minor": 5
}
