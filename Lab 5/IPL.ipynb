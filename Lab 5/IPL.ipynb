{
 "cells": [
  {
   "cell_type": "code",
   "execution_count": 14,
   "id": "7d37fd0d",
   "metadata": {},
   "outputs": [],
   "source": [
    "import pandas as pd\n",
    "import numpy as num\n",
    "import matplotlib.pyplot as plt\n",
    "import seaborn as sns"
   ]
  },
  {
   "cell_type": "code",
   "execution_count": 15,
   "id": "e3d97f43",
   "metadata": {
    "scrolled": true
   },
   "outputs": [
    {
     "data": {
      "text/html": [
       "<div>\n",
       "<style scoped>\n",
       "    .dataframe tbody tr th:only-of-type {\n",
       "        vertical-align: middle;\n",
       "    }\n",
       "\n",
       "    .dataframe tbody tr th {\n",
       "        vertical-align: top;\n",
       "    }\n",
       "\n",
       "    .dataframe thead th {\n",
       "        text-align: right;\n",
       "    }\n",
       "</style>\n",
       "<table border=\"1\" class=\"dataframe\">\n",
       "  <thead>\n",
       "    <tr style=\"text-align: right;\">\n",
       "      <th></th>\n",
       "      <th>id</th>\n",
       "      <th>season</th>\n",
       "      <th>city</th>\n",
       "      <th>date</th>\n",
       "      <th>team1</th>\n",
       "      <th>team2</th>\n",
       "      <th>toss_winner</th>\n",
       "      <th>toss_decision</th>\n",
       "      <th>result</th>\n",
       "      <th>dl_applied</th>\n",
       "      <th>winner</th>\n",
       "      <th>win_by_runs</th>\n",
       "      <th>win_by_wickets</th>\n",
       "      <th>player_of_match</th>\n",
       "      <th>venue</th>\n",
       "      <th>umpire1</th>\n",
       "      <th>umpire2</th>\n",
       "      <th>umpire3</th>\n",
       "    </tr>\n",
       "  </thead>\n",
       "  <tbody>\n",
       "    <tr>\n",
       "      <th>0</th>\n",
       "      <td>1</td>\n",
       "      <td>2017</td>\n",
       "      <td>Hyderabad</td>\n",
       "      <td>2017-04-05</td>\n",
       "      <td>Sunrisers Hyderabad</td>\n",
       "      <td>Royal Challengers Bangalore</td>\n",
       "      <td>Royal Challengers Bangalore</td>\n",
       "      <td>field</td>\n",
       "      <td>normal</td>\n",
       "      <td>0</td>\n",
       "      <td>Sunrisers Hyderabad</td>\n",
       "      <td>35</td>\n",
       "      <td>0</td>\n",
       "      <td>Yuvraj Singh</td>\n",
       "      <td>Rajiv Gandhi International Stadium, Uppal</td>\n",
       "      <td>AY Dandekar</td>\n",
       "      <td>NJ Llong</td>\n",
       "      <td>NaN</td>\n",
       "    </tr>\n",
       "    <tr>\n",
       "      <th>1</th>\n",
       "      <td>2</td>\n",
       "      <td>2017</td>\n",
       "      <td>Pune</td>\n",
       "      <td>2017-04-06</td>\n",
       "      <td>Mumbai Indians</td>\n",
       "      <td>Rising Pune Supergiant</td>\n",
       "      <td>Rising Pune Supergiant</td>\n",
       "      <td>field</td>\n",
       "      <td>normal</td>\n",
       "      <td>0</td>\n",
       "      <td>Rising Pune Supergiant</td>\n",
       "      <td>0</td>\n",
       "      <td>7</td>\n",
       "      <td>SPD Smith</td>\n",
       "      <td>Maharashtra Cricket Association Stadium</td>\n",
       "      <td>A Nand Kishore</td>\n",
       "      <td>S Ravi</td>\n",
       "      <td>NaN</td>\n",
       "    </tr>\n",
       "    <tr>\n",
       "      <th>2</th>\n",
       "      <td>3</td>\n",
       "      <td>2017</td>\n",
       "      <td>Rajkot</td>\n",
       "      <td>2017-04-07</td>\n",
       "      <td>Gujarat Lions</td>\n",
       "      <td>Kolkata Knight Riders</td>\n",
       "      <td>Kolkata Knight Riders</td>\n",
       "      <td>field</td>\n",
       "      <td>normal</td>\n",
       "      <td>0</td>\n",
       "      <td>Kolkata Knight Riders</td>\n",
       "      <td>0</td>\n",
       "      <td>10</td>\n",
       "      <td>CA Lynn</td>\n",
       "      <td>Saurashtra Cricket Association Stadium</td>\n",
       "      <td>Nitin Menon</td>\n",
       "      <td>CK Nandan</td>\n",
       "      <td>NaN</td>\n",
       "    </tr>\n",
       "    <tr>\n",
       "      <th>3</th>\n",
       "      <td>4</td>\n",
       "      <td>2017</td>\n",
       "      <td>Indore</td>\n",
       "      <td>2017-04-08</td>\n",
       "      <td>Rising Pune Supergiant</td>\n",
       "      <td>Kings XI Punjab</td>\n",
       "      <td>Kings XI Punjab</td>\n",
       "      <td>field</td>\n",
       "      <td>normal</td>\n",
       "      <td>0</td>\n",
       "      <td>Kings XI Punjab</td>\n",
       "      <td>0</td>\n",
       "      <td>6</td>\n",
       "      <td>GJ Maxwell</td>\n",
       "      <td>Holkar Cricket Stadium</td>\n",
       "      <td>AK Chaudhary</td>\n",
       "      <td>C Shamshuddin</td>\n",
       "      <td>NaN</td>\n",
       "    </tr>\n",
       "    <tr>\n",
       "      <th>4</th>\n",
       "      <td>5</td>\n",
       "      <td>2017</td>\n",
       "      <td>Bangalore</td>\n",
       "      <td>2017-04-08</td>\n",
       "      <td>Royal Challengers Bangalore</td>\n",
       "      <td>Delhi Daredevils</td>\n",
       "      <td>Royal Challengers Bangalore</td>\n",
       "      <td>bat</td>\n",
       "      <td>normal</td>\n",
       "      <td>0</td>\n",
       "      <td>Royal Challengers Bangalore</td>\n",
       "      <td>15</td>\n",
       "      <td>0</td>\n",
       "      <td>KM Jadhav</td>\n",
       "      <td>M Chinnaswamy Stadium</td>\n",
       "      <td>NaN</td>\n",
       "      <td>NaN</td>\n",
       "      <td>NaN</td>\n",
       "    </tr>\n",
       "    <tr>\n",
       "      <th>...</th>\n",
       "      <td>...</td>\n",
       "      <td>...</td>\n",
       "      <td>...</td>\n",
       "      <td>...</td>\n",
       "      <td>...</td>\n",
       "      <td>...</td>\n",
       "      <td>...</td>\n",
       "      <td>...</td>\n",
       "      <td>...</td>\n",
       "      <td>...</td>\n",
       "      <td>...</td>\n",
       "      <td>...</td>\n",
       "      <td>...</td>\n",
       "      <td>...</td>\n",
       "      <td>...</td>\n",
       "      <td>...</td>\n",
       "      <td>...</td>\n",
       "      <td>...</td>\n",
       "    </tr>\n",
       "    <tr>\n",
       "      <th>751</th>\n",
       "      <td>11347</td>\n",
       "      <td>2019</td>\n",
       "      <td>Mumbai</td>\n",
       "      <td>05/05/19</td>\n",
       "      <td>Kolkata Knight Riders</td>\n",
       "      <td>Mumbai Indians</td>\n",
       "      <td>Mumbai Indians</td>\n",
       "      <td>field</td>\n",
       "      <td>normal</td>\n",
       "      <td>0</td>\n",
       "      <td>Mumbai Indians</td>\n",
       "      <td>0</td>\n",
       "      <td>9</td>\n",
       "      <td>HH Pandya</td>\n",
       "      <td>Wankhede Stadium</td>\n",
       "      <td>Nanda Kishore</td>\n",
       "      <td>O Nandan</td>\n",
       "      <td>S Ravi</td>\n",
       "    </tr>\n",
       "    <tr>\n",
       "      <th>752</th>\n",
       "      <td>11412</td>\n",
       "      <td>2019</td>\n",
       "      <td>Chennai</td>\n",
       "      <td>07/05/19</td>\n",
       "      <td>Chennai Super Kings</td>\n",
       "      <td>Mumbai Indians</td>\n",
       "      <td>Chennai Super Kings</td>\n",
       "      <td>bat</td>\n",
       "      <td>normal</td>\n",
       "      <td>0</td>\n",
       "      <td>Mumbai Indians</td>\n",
       "      <td>0</td>\n",
       "      <td>6</td>\n",
       "      <td>AS Yadav</td>\n",
       "      <td>M. A. Chidambaram Stadium</td>\n",
       "      <td>Nigel Llong</td>\n",
       "      <td>Nitin Menon</td>\n",
       "      <td>Ian Gould</td>\n",
       "    </tr>\n",
       "    <tr>\n",
       "      <th>753</th>\n",
       "      <td>11413</td>\n",
       "      <td>2019</td>\n",
       "      <td>Visakhapatnam</td>\n",
       "      <td>08/05/19</td>\n",
       "      <td>Sunrisers Hyderabad</td>\n",
       "      <td>Delhi Capitals</td>\n",
       "      <td>Delhi Capitals</td>\n",
       "      <td>field</td>\n",
       "      <td>normal</td>\n",
       "      <td>0</td>\n",
       "      <td>Delhi Capitals</td>\n",
       "      <td>0</td>\n",
       "      <td>2</td>\n",
       "      <td>RR Pant</td>\n",
       "      <td>ACA-VDCA Stadium</td>\n",
       "      <td>NaN</td>\n",
       "      <td>NaN</td>\n",
       "      <td>NaN</td>\n",
       "    </tr>\n",
       "    <tr>\n",
       "      <th>754</th>\n",
       "      <td>11414</td>\n",
       "      <td>2019</td>\n",
       "      <td>Visakhapatnam</td>\n",
       "      <td>10/05/19</td>\n",
       "      <td>Delhi Capitals</td>\n",
       "      <td>Chennai Super Kings</td>\n",
       "      <td>Chennai Super Kings</td>\n",
       "      <td>field</td>\n",
       "      <td>normal</td>\n",
       "      <td>0</td>\n",
       "      <td>Chennai Super Kings</td>\n",
       "      <td>0</td>\n",
       "      <td>6</td>\n",
       "      <td>F du Plessis</td>\n",
       "      <td>ACA-VDCA Stadium</td>\n",
       "      <td>Sundaram Ravi</td>\n",
       "      <td>Bruce Oxenford</td>\n",
       "      <td>Chettithody Shamshuddin</td>\n",
       "    </tr>\n",
       "    <tr>\n",
       "      <th>755</th>\n",
       "      <td>11415</td>\n",
       "      <td>2019</td>\n",
       "      <td>Hyderabad</td>\n",
       "      <td>12/05/19</td>\n",
       "      <td>Mumbai Indians</td>\n",
       "      <td>Chennai Super Kings</td>\n",
       "      <td>Mumbai Indians</td>\n",
       "      <td>bat</td>\n",
       "      <td>normal</td>\n",
       "      <td>0</td>\n",
       "      <td>Mumbai Indians</td>\n",
       "      <td>1</td>\n",
       "      <td>0</td>\n",
       "      <td>JJ Bumrah</td>\n",
       "      <td>Rajiv Gandhi Intl. Cricket Stadium</td>\n",
       "      <td>Nitin Menon</td>\n",
       "      <td>Ian Gould</td>\n",
       "      <td>Nigel Llong</td>\n",
       "    </tr>\n",
       "  </tbody>\n",
       "</table>\n",
       "<p>756 rows × 18 columns</p>\n",
       "</div>"
      ],
      "text/plain": [
       "        id  season           city        date                        team1  \\\n",
       "0        1    2017      Hyderabad  2017-04-05          Sunrisers Hyderabad   \n",
       "1        2    2017           Pune  2017-04-06               Mumbai Indians   \n",
       "2        3    2017         Rajkot  2017-04-07                Gujarat Lions   \n",
       "3        4    2017         Indore  2017-04-08       Rising Pune Supergiant   \n",
       "4        5    2017      Bangalore  2017-04-08  Royal Challengers Bangalore   \n",
       "..     ...     ...            ...         ...                          ...   \n",
       "751  11347    2019         Mumbai    05/05/19        Kolkata Knight Riders   \n",
       "752  11412    2019        Chennai    07/05/19          Chennai Super Kings   \n",
       "753  11413    2019  Visakhapatnam    08/05/19          Sunrisers Hyderabad   \n",
       "754  11414    2019  Visakhapatnam    10/05/19               Delhi Capitals   \n",
       "755  11415    2019      Hyderabad    12/05/19               Mumbai Indians   \n",
       "\n",
       "                           team2                  toss_winner toss_decision  \\\n",
       "0    Royal Challengers Bangalore  Royal Challengers Bangalore         field   \n",
       "1         Rising Pune Supergiant       Rising Pune Supergiant         field   \n",
       "2          Kolkata Knight Riders        Kolkata Knight Riders         field   \n",
       "3                Kings XI Punjab              Kings XI Punjab         field   \n",
       "4               Delhi Daredevils  Royal Challengers Bangalore           bat   \n",
       "..                           ...                          ...           ...   \n",
       "751               Mumbai Indians               Mumbai Indians         field   \n",
       "752               Mumbai Indians          Chennai Super Kings           bat   \n",
       "753               Delhi Capitals               Delhi Capitals         field   \n",
       "754          Chennai Super Kings          Chennai Super Kings         field   \n",
       "755          Chennai Super Kings               Mumbai Indians           bat   \n",
       "\n",
       "     result  dl_applied                       winner  win_by_runs  \\\n",
       "0    normal           0          Sunrisers Hyderabad           35   \n",
       "1    normal           0       Rising Pune Supergiant            0   \n",
       "2    normal           0        Kolkata Knight Riders            0   \n",
       "3    normal           0              Kings XI Punjab            0   \n",
       "4    normal           0  Royal Challengers Bangalore           15   \n",
       "..      ...         ...                          ...          ...   \n",
       "751  normal           0               Mumbai Indians            0   \n",
       "752  normal           0               Mumbai Indians            0   \n",
       "753  normal           0               Delhi Capitals            0   \n",
       "754  normal           0          Chennai Super Kings            0   \n",
       "755  normal           0               Mumbai Indians            1   \n",
       "\n",
       "     win_by_wickets player_of_match  \\\n",
       "0                 0    Yuvraj Singh   \n",
       "1                 7       SPD Smith   \n",
       "2                10         CA Lynn   \n",
       "3                 6      GJ Maxwell   \n",
       "4                 0       KM Jadhav   \n",
       "..              ...             ...   \n",
       "751               9       HH Pandya   \n",
       "752               6        AS Yadav   \n",
       "753               2         RR Pant   \n",
       "754               6    F du Plessis   \n",
       "755               0       JJ Bumrah   \n",
       "\n",
       "                                         venue         umpire1  \\\n",
       "0    Rajiv Gandhi International Stadium, Uppal     AY Dandekar   \n",
       "1      Maharashtra Cricket Association Stadium  A Nand Kishore   \n",
       "2       Saurashtra Cricket Association Stadium     Nitin Menon   \n",
       "3                       Holkar Cricket Stadium    AK Chaudhary   \n",
       "4                        M Chinnaswamy Stadium             NaN   \n",
       "..                                         ...             ...   \n",
       "751                           Wankhede Stadium   Nanda Kishore   \n",
       "752                  M. A. Chidambaram Stadium     Nigel Llong   \n",
       "753                           ACA-VDCA Stadium             NaN   \n",
       "754                           ACA-VDCA Stadium   Sundaram Ravi   \n",
       "755         Rajiv Gandhi Intl. Cricket Stadium     Nitin Menon   \n",
       "\n",
       "            umpire2                  umpire3  \n",
       "0          NJ Llong                      NaN  \n",
       "1            S Ravi                      NaN  \n",
       "2         CK Nandan                      NaN  \n",
       "3     C Shamshuddin                      NaN  \n",
       "4               NaN                      NaN  \n",
       "..              ...                      ...  \n",
       "751        O Nandan                   S Ravi  \n",
       "752     Nitin Menon                Ian Gould  \n",
       "753             NaN                      NaN  \n",
       "754  Bruce Oxenford  Chettithody Shamshuddin  \n",
       "755       Ian Gould              Nigel Llong  \n",
       "\n",
       "[756 rows x 18 columns]"
      ]
     },
     "execution_count": 15,
     "metadata": {},
     "output_type": "execute_result"
    }
   ],
   "source": [
    "df= pd.read_csv(\"deliveries.csv\")\n",
    "df= pd.read_csv(\"matches.csv\")\n",
    "df"
   ]
  },
  {
   "cell_type": "code",
   "execution_count": 1,
   "id": "4b76f3a3",
   "metadata": {},
   "outputs": [],
   "source": [
    "#1) Count the total number of matches conducted in the year 2008\n"
   ]
  },
  {
   "cell_type": "code",
   "execution_count": 4,
   "id": "c43e7478",
   "metadata": {},
   "outputs": [
    {
     "data": {
      "text/plain": [
       "58"
      ]
     },
     "execution_count": 4,
     "metadata": {},
     "output_type": "execute_result"
    }
   ],
   "source": [
    "df['season'].value_counts()[2008]"
   ]
  },
  {
   "cell_type": "code",
   "execution_count": 2,
   "id": "77e58de0",
   "metadata": {},
   "outputs": [],
   "source": [
    "#2) Find the city name where maximum and minimum number of matches conducted."
   ]
  },
  {
   "cell_type": "code",
   "execution_count": 13,
   "id": "3ffbc8a4",
   "metadata": {},
   "outputs": [
    {
     "data": {
      "text/plain": [
       "Mumbai    101\n",
       "Name: city, dtype: int64"
      ]
     },
     "execution_count": 13,
     "metadata": {},
     "output_type": "execute_result"
    }
   ],
   "source": [
    "df['city'].value_counts().nlargest(1)"
   ]
  },
  {
   "cell_type": "code",
   "execution_count": 8,
   "id": "b595791f",
   "metadata": {},
   "outputs": [
    {
     "data": {
      "text/plain": [
       "Bloemfontein    2\n",
       "Name: city, dtype: int64"
      ]
     },
     "execution_count": 8,
     "metadata": {},
     "output_type": "execute_result"
    }
   ],
   "source": [
    "df['city'].value_counts().nsmallest(1)"
   ]
  },
  {
   "cell_type": "code",
   "execution_count": 3,
   "id": "bc0ad855",
   "metadata": {},
   "outputs": [],
   "source": [
    "#3) Find total count of matches city wise"
   ]
  },
  {
   "cell_type": "code",
   "execution_count": 9,
   "id": "e3709986",
   "metadata": {},
   "outputs": [
    {
     "data": {
      "text/plain": [
       "Mumbai            101\n",
       "Kolkata            77\n",
       "Delhi              74\n",
       "Bangalore          66\n",
       "Hyderabad          64\n",
       "Chennai            57\n",
       "Jaipur             47\n",
       "Chandigarh         46\n",
       "Pune               38\n",
       "Durban             15\n",
       "Bengaluru          14\n",
       "Visakhapatnam      13\n",
       "Ahmedabad          12\n",
       "Centurion          12\n",
       "Mohali             10\n",
       "Rajkot             10\n",
       "Indore              9\n",
       "Dharamsala          9\n",
       "Johannesburg        8\n",
       "Port Elizabeth      7\n",
       "Ranchi              7\n",
       "Cape Town           7\n",
       "Cuttack             7\n",
       "Abu Dhabi           7\n",
       "Sharjah             6\n",
       "Raipur              6\n",
       "Kochi               5\n",
       "Kanpur              4\n",
       "East London         3\n",
       "Nagpur              3\n",
       "Kimberley           3\n",
       "Bloemfontein        2\n",
       "Name: city, dtype: int64"
      ]
     },
     "execution_count": 9,
     "metadata": {},
     "output_type": "execute_result"
    }
   ],
   "source": [
    "df['city'].value_counts()"
   ]
  },
  {
   "cell_type": "code",
   "execution_count": 4,
   "id": "998819d3",
   "metadata": {},
   "outputs": [],
   "source": [
    "#4) Find the Team which is maximum and minimum toss winner.\n"
   ]
  },
  {
   "cell_type": "code",
   "execution_count": 26,
   "id": "c4c3ba7e",
   "metadata": {},
   "outputs": [
    {
     "data": {
      "text/plain": [
       "Mumbai Indians                 98\n",
       "Kolkata Knight Riders          92\n",
       "Chennai Super Kings            89\n",
       "Royal Challengers Bangalore    81\n",
       "Kings XI Punjab                81\n",
       "Name: toss_winner, dtype: int64"
      ]
     },
     "execution_count": 26,
     "metadata": {},
     "output_type": "execute_result"
    }
   ],
   "source": [
    "df['toss_winner'].value_counts().nlargest()"
   ]
  },
  {
   "cell_type": "code",
   "execution_count": 5,
   "id": "8a582d3d",
   "metadata": {},
   "outputs": [],
   "source": [
    "#5) Check the toss decision that the team has taken."
   ]
  },
  {
   "cell_type": "code",
   "execution_count": 39,
   "id": "56c5e442",
   "metadata": {},
   "outputs": [
    {
     "data": {
      "text/plain": [
       "Kochi Tuskers Kerala        8\n",
       "Delhi Capitals             10\n",
       "Rising Pune Supergiants    13\n",
       "Gujarat Lions              15\n",
       "Pune Warriors              20\n",
       "Name: toss_winner, dtype: int64"
      ]
     },
     "execution_count": 39,
     "metadata": {},
     "output_type": "execute_result"
    }
   ],
   "source": [
    "df['toss_winner'] = df['toss_winner'].replace(['Rising Pune Supergiant'],'Rising Pune Supergiants')\n",
    "#df['toss_winner'].replace(to_replace=\"Rising Pune Supergiant\",value=\"Rising Pune Supergiants\")\n",
    "df['toss_winner'].value_counts().nsmallest()"
   ]
  },
  {
   "cell_type": "code",
   "execution_count": 29,
   "id": "0d520a4a",
   "metadata": {},
   "outputs": [
    {
     "data": {
      "text/plain": [
       "field    463\n",
       "bat      293\n",
       "Name: toss_decision, dtype: int64"
      ]
     },
     "execution_count": 29,
     "metadata": {},
     "output_type": "execute_result"
    }
   ],
   "source": [
    "df['toss_decision'].value_counts()"
   ]
  },
  {
   "cell_type": "code",
   "execution_count": 6,
   "id": "3afc96b7",
   "metadata": {},
   "outputs": [],
   "source": [
    "#6) Count the total number of normal and tie matches."
   ]
  },
  {
   "cell_type": "code",
   "execution_count": 27,
   "id": "639f6f81",
   "metadata": {},
   "outputs": [
    {
     "data": {
      "text/plain": [
       "normal       743\n",
       "tie            9\n",
       "no result      4\n",
       "Name: result, dtype: int64"
      ]
     },
     "execution_count": 27,
     "metadata": {},
     "output_type": "execute_result"
    }
   ],
   "source": [
    "df['result'].value_counts().nlargest()"
   ]
  },
  {
   "cell_type": "code",
   "execution_count": 7,
   "id": "facd0603",
   "metadata": {},
   "outputs": [],
   "source": [
    "#7) Find the team names where the match result is tie."
   ]
  },
  {
   "cell_type": "code",
   "execution_count": 43,
   "id": "09df8742",
   "metadata": {},
   "outputs": [
    {
     "data": {
      "text/plain": [
       "33                   Gujarat Lions\n",
       "125               Rajasthan Royals\n",
       "189                Kings XI Punjab\n",
       "387    Royal Challengers Bangalore\n",
       "400               Delhi Daredevils\n",
       "475               Rajasthan Royals\n",
       "535               Rajasthan Royals\n",
       "705          Kolkata Knight Riders\n",
       "746                 Mumbai Indians\n",
       "Name: team1, dtype: object"
      ]
     },
     "execution_count": 43,
     "metadata": {},
     "output_type": "execute_result"
    }
   ],
   "source": [
    "df[df['result'] == 'tie']['team1']"
   ]
  },
  {
   "cell_type": "code",
   "execution_count": 44,
   "id": "8dc23139",
   "metadata": {},
   "outputs": [
    {
     "data": {
      "text/plain": [
       "33                  Mumbai Indians\n",
       "125          Kolkata Knight Riders\n",
       "189            Chennai Super Kings\n",
       "387            Sunrisers Hyderabad\n",
       "400    Royal Challengers Bangalore\n",
       "475          Kolkata Knight Riders\n",
       "535                Kings XI Punjab\n",
       "705                 Delhi Capitals\n",
       "746            Sunrisers Hyderabad\n",
       "Name: team2, dtype: object"
      ]
     },
     "execution_count": 44,
     "metadata": {},
     "output_type": "execute_result"
    }
   ],
   "source": [
    "df[df['result'] == 'tie']['team2']"
   ]
  },
  {
   "cell_type": "code",
   "execution_count": 8,
   "id": "871b59e6",
   "metadata": {},
   "outputs": [],
   "source": [
    "#8) Find the team name who won the match by highest runs."
   ]
  },
  {
   "cell_type": "code",
   "execution_count": 60,
   "id": "4e1b7d10",
   "metadata": {},
   "outputs": [
    {
     "data": {
      "text/html": [
       "<div>\n",
       "<style scoped>\n",
       "    .dataframe tbody tr th:only-of-type {\n",
       "        vertical-align: middle;\n",
       "    }\n",
       "\n",
       "    .dataframe tbody tr th {\n",
       "        vertical-align: top;\n",
       "    }\n",
       "\n",
       "    .dataframe thead th {\n",
       "        text-align: right;\n",
       "    }\n",
       "</style>\n",
       "<table border=\"1\" class=\"dataframe\">\n",
       "  <thead>\n",
       "    <tr style=\"text-align: right;\">\n",
       "      <th></th>\n",
       "      <th>winner</th>\n",
       "      <th>win_by_runs</th>\n",
       "    </tr>\n",
       "  </thead>\n",
       "  <tbody>\n",
       "    <tr>\n",
       "      <th>58</th>\n",
       "      <td>Mumbai Indians</td>\n",
       "      <td>1</td>\n",
       "    </tr>\n",
       "    <tr>\n",
       "      <th>105</th>\n",
       "      <td>Kings XI Punjab</td>\n",
       "      <td>1</td>\n",
       "    </tr>\n",
       "    <tr>\n",
       "      <th>163</th>\n",
       "      <td>Kings XI Punjab</td>\n",
       "      <td>1</td>\n",
       "    </tr>\n",
       "    <tr>\n",
       "      <th>344</th>\n",
       "      <td>Delhi Daredevils</td>\n",
       "      <td>1</td>\n",
       "    </tr>\n",
       "    <tr>\n",
       "      <th>350</th>\n",
       "      <td>Mumbai Indians</td>\n",
       "      <td>1</td>\n",
       "    </tr>\n",
       "    <tr>\n",
       "      <th>518</th>\n",
       "      <td>Chennai Super Kings</td>\n",
       "      <td>1</td>\n",
       "    </tr>\n",
       "    <tr>\n",
       "      <th>598</th>\n",
       "      <td>Gujarat Lions</td>\n",
       "      <td>1</td>\n",
       "    </tr>\n",
       "    <tr>\n",
       "      <th>614</th>\n",
       "      <td>Royal Challengers Bangalore</td>\n",
       "      <td>1</td>\n",
       "    </tr>\n",
       "    <tr>\n",
       "      <th>734</th>\n",
       "      <td>Royal Challengers Bangalore</td>\n",
       "      <td>1</td>\n",
       "    </tr>\n",
       "    <tr>\n",
       "      <th>755</th>\n",
       "      <td>Mumbai Indians</td>\n",
       "      <td>1</td>\n",
       "    </tr>\n",
       "  </tbody>\n",
       "</table>\n",
       "</div>"
      ],
      "text/plain": [
       "                          winner  win_by_runs\n",
       "58                Mumbai Indians            1\n",
       "105              Kings XI Punjab            1\n",
       "163              Kings XI Punjab            1\n",
       "344             Delhi Daredevils            1\n",
       "350               Mumbai Indians            1\n",
       "518          Chennai Super Kings            1\n",
       "598                Gujarat Lions            1\n",
       "614  Royal Challengers Bangalore            1\n",
       "734  Royal Challengers Bangalore            1\n",
       "755               Mumbai Indians            1"
      ]
     },
     "execution_count": 60,
     "metadata": {},
     "output_type": "execute_result"
    }
   ],
   "source": [
    "x = df.loc[df['win_by_runs'] > 0]\n",
    "x[['winner','win_by_runs']].loc[x['win_by_runs']==x['win_by_runs'].min()]"
   ]
  },
  {
   "cell_type": "code",
   "execution_count": 9,
   "id": "bc244942",
   "metadata": {},
   "outputs": [],
   "source": [
    "#9) Find the team name who won the match by lowest runs.\n"
   ]
  },
  {
   "cell_type": "code",
   "execution_count": 61,
   "id": "b2847385",
   "metadata": {},
   "outputs": [
    {
     "data": {
      "text/html": [
       "<div>\n",
       "<style scoped>\n",
       "    .dataframe tbody tr th:only-of-type {\n",
       "        vertical-align: middle;\n",
       "    }\n",
       "\n",
       "    .dataframe tbody tr th {\n",
       "        vertical-align: top;\n",
       "    }\n",
       "\n",
       "    .dataframe thead th {\n",
       "        text-align: right;\n",
       "    }\n",
       "</style>\n",
       "<table border=\"1\" class=\"dataframe\">\n",
       "  <thead>\n",
       "    <tr style=\"text-align: right;\">\n",
       "      <th></th>\n",
       "      <th>winner</th>\n",
       "      <th>win_by_runs</th>\n",
       "    </tr>\n",
       "  </thead>\n",
       "  <tbody>\n",
       "    <tr>\n",
       "      <th>58</th>\n",
       "      <td>Mumbai Indians</td>\n",
       "      <td>1</td>\n",
       "    </tr>\n",
       "    <tr>\n",
       "      <th>105</th>\n",
       "      <td>Kings XI Punjab</td>\n",
       "      <td>1</td>\n",
       "    </tr>\n",
       "    <tr>\n",
       "      <th>163</th>\n",
       "      <td>Kings XI Punjab</td>\n",
       "      <td>1</td>\n",
       "    </tr>\n",
       "    <tr>\n",
       "      <th>344</th>\n",
       "      <td>Delhi Daredevils</td>\n",
       "      <td>1</td>\n",
       "    </tr>\n",
       "    <tr>\n",
       "      <th>350</th>\n",
       "      <td>Mumbai Indians</td>\n",
       "      <td>1</td>\n",
       "    </tr>\n",
       "    <tr>\n",
       "      <th>518</th>\n",
       "      <td>Chennai Super Kings</td>\n",
       "      <td>1</td>\n",
       "    </tr>\n",
       "    <tr>\n",
       "      <th>598</th>\n",
       "      <td>Gujarat Lions</td>\n",
       "      <td>1</td>\n",
       "    </tr>\n",
       "    <tr>\n",
       "      <th>614</th>\n",
       "      <td>Royal Challengers Bangalore</td>\n",
       "      <td>1</td>\n",
       "    </tr>\n",
       "    <tr>\n",
       "      <th>734</th>\n",
       "      <td>Royal Challengers Bangalore</td>\n",
       "      <td>1</td>\n",
       "    </tr>\n",
       "    <tr>\n",
       "      <th>755</th>\n",
       "      <td>Mumbai Indians</td>\n",
       "      <td>1</td>\n",
       "    </tr>\n",
       "  </tbody>\n",
       "</table>\n",
       "</div>"
      ],
      "text/plain": [
       "                          winner  win_by_runs\n",
       "58                Mumbai Indians            1\n",
       "105              Kings XI Punjab            1\n",
       "163              Kings XI Punjab            1\n",
       "344             Delhi Daredevils            1\n",
       "350               Mumbai Indians            1\n",
       "518          Chennai Super Kings            1\n",
       "598                Gujarat Lions            1\n",
       "614  Royal Challengers Bangalore            1\n",
       "734  Royal Challengers Bangalore            1\n",
       "755               Mumbai Indians            1"
      ]
     },
     "execution_count": 61,
     "metadata": {},
     "output_type": "execute_result"
    }
   ],
   "source": [
    "x=df.loc[df['win_by_runs']>0]\n",
    "x[['winner','win_by_runs']].loc[x['win_by_runs']==x['win_by_runs'].min()]"
   ]
  },
  {
   "cell_type": "code",
   "execution_count": 10,
   "id": "1e39dc24",
   "metadata": {},
   "outputs": [],
   "source": [
    "#10) Find the players who was awarded “Player of the match” more than 3 times."
   ]
  },
  {
   "cell_type": "code",
   "execution_count": 56,
   "id": "13842543",
   "metadata": {},
   "outputs": [
    {
     "data": {
      "text/plain": [
       "CH Gayle          21\n",
       "AB de Villiers    20\n",
       "MS Dhoni          17\n",
       "DA Warner         17\n",
       "RG Sharma         17\n",
       "                  ..\n",
       "P Shaw             1\n",
       "S Badrinath        1\n",
       "S Aravind          1\n",
       "KK Cooper          1\n",
       "CL White           1\n",
       "Name: player_of_match, Length: 226, dtype: int64"
      ]
     },
     "execution_count": 56,
     "metadata": {},
     "output_type": "execute_result"
    }
   ],
   "source": [
    "times = df['player_of_match'].value_counts()\n",
    "times"
   ]
  },
  {
   "cell_type": "code",
   "execution_count": 11,
   "id": "4eb5e2d3",
   "metadata": {},
   "outputs": [],
   "source": [
    "#11) Find the player who was awarded as player of the match maximum times.\n"
   ]
  },
  {
   "cell_type": "code",
   "execution_count": 57,
   "id": "de5c17eb",
   "metadata": {},
   "outputs": [
    {
     "data": {
      "text/plain": [
       "CH Gayle          21\n",
       "AB de Villiers    20\n",
       "MS Dhoni          17\n",
       "DA Warner         17\n",
       "RG Sharma         17\n",
       "                  ..\n",
       "CA Lynn            4\n",
       "ML Hayden          4\n",
       "KL Rahul           4\n",
       "JP Duminy          4\n",
       "SS Iyer            4\n",
       "Name: player_of_match, Length: 65, dtype: int64"
      ]
     },
     "execution_count": 57,
     "metadata": {},
     "output_type": "execute_result"
    }
   ],
   "source": [
    "times1 = times.loc[times>3]\n",
    "times1"
   ]
  },
  {
   "cell_type": "code",
   "execution_count": 12,
   "id": "62bbf337",
   "metadata": {},
   "outputs": [],
   "source": [
    "#12) Find the Venue where the team won the match by highest runs"
   ]
  },
  {
   "cell_type": "code",
   "execution_count": 59,
   "id": "d686b4e4",
   "metadata": {},
   "outputs": [
    {
     "data": {
      "text/plain": [
       "CH Gayle    21\n",
       "Name: player_of_match, dtype: int64"
      ]
     },
     "execution_count": 59,
     "metadata": {},
     "output_type": "execute_result"
    }
   ],
   "source": [
    "df['player_of_match'].value_counts().nlargest(1)"
   ]
  },
  {
   "cell_type": "code",
   "execution_count": 13,
   "id": "f00c5e37",
   "metadata": {},
   "outputs": [],
   "source": [
    "#13) Find the Venue where the team won the match by lowest runs."
   ]
  },
  {
   "cell_type": "code",
   "execution_count": 62,
   "id": "ad741f7b",
   "metadata": {},
   "outputs": [
    {
     "data": {
      "text/plain": [
       "43    Feroz Shah Kotla\n",
       "Name: venue, dtype: object"
      ]
     },
     "execution_count": 62,
     "metadata": {},
     "output_type": "execute_result"
    }
   ],
   "source": [
    "(df.sort_values(by=['win_by_runs'],ascending=False).head(1).venue)"
   ]
  },
  {
   "cell_type": "code",
   "execution_count": null,
   "id": "628fd89b",
   "metadata": {},
   "outputs": [],
   "source": []
  },
  {
   "cell_type": "code",
   "execution_count": 63,
   "id": "360967cf",
   "metadata": {},
   "outputs": [
    {
     "data": {
      "text/plain": [
       "46    Rajiv Gandhi International Stadium, Uppal\n",
       "Name: venue, dtype: object"
      ]
     },
     "execution_count": 63,
     "metadata": {},
     "output_type": "execute_result"
    }
   ],
   "source": [
    "df.sort_values(by=['win_by_runs'],ascending=False).tail(1).venue"
   ]
  },
  {
   "cell_type": "code",
   "execution_count": 15,
   "id": "88111045",
   "metadata": {},
   "outputs": [],
   "source": [
    "#14) Find the Umpires who did umpiring maximum times."
   ]
  },
  {
   "cell_type": "code",
   "execution_count": 64,
   "id": "12c7043d",
   "metadata": {},
   "outputs": [
    {
     "data": {
      "text/plain": [
       "umpire1      umpire2         umpire3        \n",
       "Nigel Llong  Anil Chaudhary  Vineet Kulkarni    3\n",
       "dtype: int64"
      ]
     },
     "execution_count": 64,
     "metadata": {},
     "output_type": "execute_result"
    }
   ],
   "source": [
    "df[['umpire1','umpire2','umpire3']].value_counts().nlargest(1)"
   ]
  },
  {
   "cell_type": "code",
   "execution_count": 16,
   "id": "0ebe122b",
   "metadata": {},
   "outputs": [],
   "source": [
    "#15) Find the Total matches played in each season\n"
   ]
  },
  {
   "cell_type": "code",
   "execution_count": 65,
   "id": "99af5a11",
   "metadata": {
    "scrolled": true
   },
   "outputs": [
    {
     "data": {
      "text/plain": [
       "2013    76\n",
       "2012    74\n",
       "2011    73\n",
       "2010    60\n",
       "2014    60\n",
       "2016    60\n",
       "2018    60\n",
       "2019    60\n",
       "2015    59\n",
       "2017    59\n",
       "2008    58\n",
       "2009    57\n",
       "Name: season, dtype: int64"
      ]
     },
     "execution_count": 65,
     "metadata": {},
     "output_type": "execute_result"
    }
   ],
   "source": [
    "df['season'].value_counts()"
   ]
  },
  {
   "cell_type": "code",
   "execution_count": 1,
   "id": "e4b39b8e",
   "metadata": {},
   "outputs": [],
   "source": [
    "#16) Find the Total runs in each season\n"
   ]
  },
  {
   "cell_type": "code",
   "execution_count": 75,
   "id": "af318daf",
   "metadata": {},
   "outputs": [],
   "source": [
    "df1=pd.read_csv('deliveries.csv')\n",
    "dff=pd.merge(df,df1,left_on='id',right_on='match_id')"
   ]
  },
  {
   "cell_type": "code",
   "execution_count": 76,
   "id": "eafe6986",
   "metadata": {},
   "outputs": [
    {
     "data": {
      "text/plain": [
       "235290"
      ]
     },
     "execution_count": 76,
     "metadata": {},
     "output_type": "execute_result"
    }
   ],
   "source": [
    "dff['total_runs'].sum()"
   ]
  },
  {
   "cell_type": "code",
   "execution_count": 2,
   "id": "6f356b16",
   "metadata": {},
   "outputs": [],
   "source": [
    "#17) No. of tosses won by each team"
   ]
  },
  {
   "cell_type": "code",
   "execution_count": 66,
   "id": "ca712d3e",
   "metadata": {},
   "outputs": [
    {
     "data": {
      "text/plain": [
       "Mumbai Indians                 98\n",
       "Kolkata Knight Riders          92\n",
       "Chennai Super Kings            89\n",
       "Royal Challengers Bangalore    81\n",
       "Kings XI Punjab                81\n",
       "Delhi Daredevils               80\n",
       "Rajasthan Royals               80\n",
       "Sunrisers Hyderabad            46\n",
       "Deccan Chargers                43\n",
       "Pune Warriors                  20\n",
       "Gujarat Lions                  15\n",
       "Rising Pune Supergiants        13\n",
       "Delhi Capitals                 10\n",
       "Kochi Tuskers Kerala            8\n",
       "Name: toss_winner, dtype: int64"
      ]
     },
     "execution_count": 66,
     "metadata": {},
     "output_type": "execute_result"
    }
   ],
   "source": [
    "df['toss_winner'].value_counts()"
   ]
  },
  {
   "cell_type": "code",
   "execution_count": 3,
   "id": "54b14a31",
   "metadata": {},
   "outputs": [],
   "source": [
    "#18) Visualize the Toss decision across seasons"
   ]
  },
  {
   "cell_type": "code",
   "execution_count": 78,
   "id": "e93e1e00",
   "metadata": {},
   "outputs": [
    {
     "data": {
      "text/plain": [
       "<AxesSubplot:xlabel='season'>"
      ]
     },
     "execution_count": 78,
     "metadata": {},
     "output_type": "execute_result"
    },
    {
     "data": {
      "image/png": "[encoded data removed]",
      "text/plain": [
       "<Figure size 432x288 with 1 Axes>"
      ]
     },
     "metadata": {
      "needs_background": "light"
     },
     "output_type": "display_data"
    }
   ],
   "source": [
    "pd.crosstab(df['season'], df['toss_decision']).plot(kind = 'bar')"
   ]
  },
  {
   "cell_type": "code",
   "execution_count": 4,
   "id": "d74ed150",
   "metadata": {},
   "outputs": [],
   "source": [
    "#19) Find the Dismissal Kind and Visualize using best fit graph"
   ]
  },
  {
   "cell_type": "code",
   "execution_count": 82,
   "id": "288b2e21",
   "metadata": {},
   "outputs": [
    {
     "data": {
      "text/plain": [
       "<AxesSubplot:>"
      ]
     },
     "execution_count": 82,
     "metadata": {},
     "output_type": "execute_result"
    },
    {
     "data": {
      "image/png": "[encoded data removed]",
      "text/plain": [
       "<Figure size 432x288 with 1 Axes>"
      ]
     },
     "metadata": {
      "needs_background": "light"
     },
     "output_type": "display_data"
    }
   ],
   "source": [
    "dff['dismissal_kind'].value_counts().plot(kind='bar')"
   ]
  },
  {
   "cell_type": "code",
   "execution_count": 5,
   "id": "2ded821d",
   "metadata": {},
   "outputs": [],
   "source": [
    "#20) Find the Top 10 run scorers in IPL and Visualize using best fit graph\n"
   ]
  },
  {
   "cell_type": "code",
   "execution_count": 83,
   "id": "da39380c",
   "metadata": {},
   "outputs": [
    {
     "data": {
      "text/plain": [
       "batsman\n",
       "V Kohli           5434\n",
       "SK Raina          5415\n",
       "RG Sharma         4914\n",
       "DA Warner         4741\n",
       "S Dhawan          4632\n",
       "CH Gayle          4560\n",
       "MS Dhoni          4477\n",
       "RV Uthappa        4446\n",
       "AB de Villiers    4428\n",
       "G Gambhir         4223\n",
       "Name: batsman_runs, dtype: int64"
      ]
     },
     "execution_count": 83,
     "metadata": {},
     "output_type": "execute_result"
    }
   ],
   "source": [
    "dff.groupby('batsman')['batsman_runs'].sum().nlargest(10)"
   ]
  },
  {
   "cell_type": "code",
   "execution_count": 84,
   "id": "c1ad2d2f",
   "metadata": {},
   "outputs": [
    {
     "data": {
      "text/plain": [
       "<AxesSubplot:xlabel='batsman'>"
      ]
     },
     "execution_count": 84,
     "metadata": {},
     "output_type": "execute_result"
    },
    {
     "data": {
      "image/png": "[encoded data removed]",
      "text/plain": [
       "<Figure size 432x288 with 1 Axes>"
      ]
     },
     "metadata": {
      "needs_background": "light"
     },
     "output_type": "display_data"
    }
   ],
   "source": [
    "dff.groupby('batsman')['batsman_runs'].sum().nlargest(10).plot(kind='bar')"
   ]
  },
  {
   "cell_type": "code",
   "execution_count": 6,
   "id": "e9d48785",
   "metadata": {},
   "outputs": [],
   "source": [
    "#21) Visualize the Highest MOM award winners"
   ]
  },
  {
   "cell_type": "code",
   "execution_count": 16,
   "id": "c23d924b",
   "metadata": {},
   "outputs": [
    {
     "data": {
      "text/plain": [
       "<AxesSubplot:>"
      ]
     },
     "execution_count": 16,
     "metadata": {},
     "output_type": "execute_result"
    },
    {
     "data": {
      "image/png": "[encoded data removed]",
      "text/plain": [
       "<Figure size 432x288 with 1 Axes>"
      ]
     },
     "metadata": {
      "needs_background": "light"
     },
     "output_type": "display_data"
    }
   ],
   "source": [
    "df['player_of_match'].value_counts().nlargest(10).plot(kind='bar')"
   ]
  },
  {
   "cell_type": "code",
   "execution_count": 7,
   "id": "d1f54e03",
   "metadata": {},
   "outputs": [],
   "source": [
    "#22) Find Total Number of Played Matches by each team"
   ]
  },
  {
   "cell_type": "code",
   "execution_count": 17,
   "id": "d78b70b2",
   "metadata": {},
   "outputs": [
    {
     "data": {
      "text/plain": [
       "Chennai Super Kings            164\n",
       "Deccan Chargers                 75\n",
       "Delhi Capitals                  16\n",
       "Delhi Daredevils               161\n",
       "Gujarat Lions                   30\n",
       "Kings XI Punjab                176\n",
       "Kochi Tuskers Kerala            14\n",
       "Kolkata Knight Riders          178\n",
       "Mumbai Indians                 187\n",
       "Pune Warriors                   46\n",
       "Rajasthan Royals               147\n",
       "Rising Pune Supergiant          16\n",
       "Rising Pune Supergiants         14\n",
       "Royal Challengers Bangalore    180\n",
       "Sunrisers Hyderabad            108\n",
       "dtype: int64"
      ]
     },
     "execution_count": 17,
     "metadata": {},
     "output_type": "execute_result"
    }
   ],
   "source": [
    "total_mat=df['team1'].value_counts()+df['team2'].value_counts()\n",
    "total_mat"
   ]
  },
  {
   "cell_type": "code",
   "execution_count": 8,
   "id": "521e1de6",
   "metadata": {},
   "outputs": [],
   "source": [
    "#23)Compare Total Played Matches vs Winning Matches vs Win Rate"
   ]
  },
  {
   "cell_type": "code",
   "execution_count": 18,
   "id": "c62b0392",
   "metadata": {},
   "outputs": [
    {
     "data": {
      "text/plain": [
       "Chennai Super Kings            164\n",
       "Deccan Chargers                 75\n",
       "Delhi Capitals                  16\n",
       "Delhi Daredevils               161\n",
       "Gujarat Lions                   30\n",
       "Kings XI Punjab                176\n",
       "Kochi Tuskers Kerala            14\n",
       "Kolkata Knight Riders          178\n",
       "Mumbai Indians                 187\n",
       "Pune Warriors                   46\n",
       "Rajasthan Royals               147\n",
       "Rising Pune Supergiant          16\n",
       "Rising Pune Supergiants         14\n",
       "Royal Challengers Bangalore    180\n",
       "Sunrisers Hyderabad            108\n",
       "dtype: int64"
      ]
     },
     "execution_count": 18,
     "metadata": {},
     "output_type": "execute_result"
    }
   ],
   "source": [
    "total_mat=df['team1'].value_counts()+df['team2'].value_counts()\n",
    "total_mat"
   ]
  },
  {
   "cell_type": "code",
   "execution_count": 24,
   "id": "f521c2e9",
   "metadata": {},
   "outputs": [
    {
     "data": {
      "text/plain": [
       "Mumbai Indians                 109\n",
       "Chennai Super Kings            100\n",
       "Kolkata Knight Riders           92\n",
       "Royal Challengers Bangalore     84\n",
       "Kings XI Punjab                 82\n",
       "Rajasthan Royals                75\n",
       "Delhi Daredevils                67\n",
       "Sunrisers Hyderabad             58\n",
       "Deccan Chargers                 29\n",
       "Gujarat Lions                   13\n",
       "Pune Warriors                   12\n",
       "Rising Pune Supergiant          10\n",
       "Delhi Capitals                  10\n",
       "Kochi Tuskers Kerala             6\n",
       "Rising Pune Supergiants          5\n",
       "Name: winner, dtype: int64"
      ]
     },
     "execution_count": 24,
     "metadata": {},
     "output_type": "execute_result"
    }
   ],
   "source": [
    "won_mat=df['winner'].value_counts()\n",
    "won_mat"
   ]
  },
  {
   "cell_type": "code",
   "execution_count": 25,
   "id": "a8526581",
   "metadata": {},
   "outputs": [
    {
     "data": {
      "text/plain": [
       "Chennai Super Kings            0.609756\n",
       "Deccan Chargers                0.386667\n",
       "Delhi Capitals                 0.625000\n",
       "Delhi Daredevils               0.416149\n",
       "Gujarat Lions                  0.433333\n",
       "Kings XI Punjab                0.465909\n",
       "Kochi Tuskers Kerala           0.428571\n",
       "Kolkata Knight Riders          0.516854\n",
       "Mumbai Indians                 0.582888\n",
       "Pune Warriors                  0.260870\n",
       "Rajasthan Royals               0.510204\n",
       "Rising Pune Supergiant         0.625000\n",
       "Rising Pune Supergiants        0.357143\n",
       "Royal Challengers Bangalore    0.466667\n",
       "Sunrisers Hyderabad            0.537037\n",
       "dtype: float64"
      ]
     },
     "execution_count": 25,
     "metadata": {},
     "output_type": "execute_result"
    }
   ],
   "source": [
    "win_rate=won_mat/total_mat\n",
    "win_rate"
   ]
  },
  {
   "cell_type": "code",
   "execution_count": 20,
   "id": "f0810262",
   "metadata": {},
   "outputs": [
    {
     "data": {
      "text/plain": [
       "<AxesSubplot:>"
      ]
     },
     "execution_count": 20,
     "metadata": {},
     "output_type": "execute_result"
    },
    {
     "data": {
      "image/png": "[encoded data removed]",
      "text/plain": [
       "<Figure size 432x288 with 1 Axes>"
      ]
     },
     "metadata": {
      "needs_background": "light"
     },
     "output_type": "display_data"
    }
   ],
   "source": [
    "total_mat.plot(kind='bar')"
   ]
  },
  {
   "cell_type": "code",
   "execution_count": 9,
   "id": "020e45df",
   "metadata": {},
   "outputs": [],
   "source": [
    "#24) Find the Distribution of Won the Matches\n"
   ]
  },
  {
   "cell_type": "code",
   "execution_count": 26,
   "id": "236c59d7",
   "metadata": {},
   "outputs": [
    {
     "data": {
      "text/plain": [
       "<AxesSubplot:>"
      ]
     },
     "execution_count": 26,
     "metadata": {},
     "output_type": "execute_result"
    },
    {
     "data": {
      "image/png": "[encoded data removed]",
      "text/plain": [
       "<Figure size 432x288 with 1 Axes>"
      ]
     },
     "metadata": {
      "needs_background": "light"
     },
     "output_type": "display_data"
    }
   ],
   "source": [
    "won_mat.plot(kind='bar')"
   ]
  },
  {
   "cell_type": "code",
   "execution_count": 10,
   "id": "c0a9048a",
   "metadata": {},
   "outputs": [],
   "source": [
    "#25)Ratio between Total Matches and Win Matches"
   ]
  },
  {
   "cell_type": "code",
   "execution_count": 27,
   "id": "3068642d",
   "metadata": {},
   "outputs": [
    {
     "data": {
      "text/plain": [
       "Chennai Super Kings            1.640000\n",
       "Deccan Chargers                2.586207\n",
       "Delhi Capitals                 1.600000\n",
       "Delhi Daredevils               2.402985\n",
       "Gujarat Lions                  2.307692\n",
       "Kings XI Punjab                2.146341\n",
       "Kochi Tuskers Kerala           2.333333\n",
       "Kolkata Knight Riders          1.934783\n",
       "Mumbai Indians                 1.715596\n",
       "Pune Warriors                  3.833333\n",
       "Rajasthan Royals               1.960000\n",
       "Rising Pune Supergiant         1.600000\n",
       "Rising Pune Supergiants        2.800000\n",
       "Royal Challengers Bangalore    2.142857\n",
       "Sunrisers Hyderabad            1.862069\n",
       "dtype: float64"
      ]
     },
     "execution_count": 27,
     "metadata": {},
     "output_type": "execute_result"
    }
   ],
   "source": [
    "total_mat/won_mat"
   ]
  },
  {
   "cell_type": "code",
   "execution_count": 11,
   "id": "6b37190b",
   "metadata": {},
   "outputs": [],
   "source": [
    "#26) What is the choice of each team after winning the toss?"
   ]
  },
  {
   "cell_type": "code",
   "execution_count": 22,
   "id": "b57ca165",
   "metadata": {},
   "outputs": [
    {
     "data": {
      "text/html": [
       "<div>\n",
       "<style scoped>\n",
       "    .dataframe tbody tr th:only-of-type {\n",
       "        vertical-align: middle;\n",
       "    }\n",
       "\n",
       "    .dataframe tbody tr th {\n",
       "        vertical-align: top;\n",
       "    }\n",
       "\n",
       "    .dataframe thead th {\n",
       "        text-align: right;\n",
       "    }\n",
       "</style>\n",
       "<table border=\"1\" class=\"dataframe\">\n",
       "  <thead>\n",
       "    <tr style=\"text-align: right;\">\n",
       "      <th>toss_decision</th>\n",
       "      <th>bat</th>\n",
       "      <th>field</th>\n",
       "    </tr>\n",
       "    <tr>\n",
       "      <th>toss_winner</th>\n",
       "      <th></th>\n",
       "      <th></th>\n",
       "    </tr>\n",
       "  </thead>\n",
       "  <tbody>\n",
       "    <tr>\n",
       "      <th>Chennai Super Kings</th>\n",
       "      <td>48</td>\n",
       "      <td>41</td>\n",
       "    </tr>\n",
       "    <tr>\n",
       "      <th>Deccan Chargers</th>\n",
       "      <td>24</td>\n",
       "      <td>19</td>\n",
       "    </tr>\n",
       "    <tr>\n",
       "      <th>Delhi Capitals</th>\n",
       "      <td>2</td>\n",
       "      <td>8</td>\n",
       "    </tr>\n",
       "    <tr>\n",
       "      <th>Delhi Daredevils</th>\n",
       "      <td>29</td>\n",
       "      <td>51</td>\n",
       "    </tr>\n",
       "    <tr>\n",
       "      <th>Gujarat Lions</th>\n",
       "      <td>1</td>\n",
       "      <td>14</td>\n",
       "    </tr>\n",
       "    <tr>\n",
       "      <th>Kings XI Punjab</th>\n",
       "      <td>26</td>\n",
       "      <td>55</td>\n",
       "    </tr>\n",
       "    <tr>\n",
       "      <th>Kochi Tuskers Kerala</th>\n",
       "      <td>3</td>\n",
       "      <td>5</td>\n",
       "    </tr>\n",
       "    <tr>\n",
       "      <th>Kolkata Knight Riders</th>\n",
       "      <td>30</td>\n",
       "      <td>62</td>\n",
       "    </tr>\n",
       "    <tr>\n",
       "      <th>Mumbai Indians</th>\n",
       "      <td>44</td>\n",
       "      <td>54</td>\n",
       "    </tr>\n",
       "    <tr>\n",
       "      <th>Pune Warriors</th>\n",
       "      <td>11</td>\n",
       "      <td>9</td>\n",
       "    </tr>\n",
       "    <tr>\n",
       "      <th>Rajasthan Royals</th>\n",
       "      <td>32</td>\n",
       "      <td>48</td>\n",
       "    </tr>\n",
       "    <tr>\n",
       "      <th>Rising Pune Supergiant</th>\n",
       "      <td>0</td>\n",
       "      <td>6</td>\n",
       "    </tr>\n",
       "    <tr>\n",
       "      <th>Rising Pune Supergiants</th>\n",
       "      <td>3</td>\n",
       "      <td>4</td>\n",
       "    </tr>\n",
       "    <tr>\n",
       "      <th>Royal Challengers Bangalore</th>\n",
       "      <td>20</td>\n",
       "      <td>61</td>\n",
       "    </tr>\n",
       "    <tr>\n",
       "      <th>Sunrisers Hyderabad</th>\n",
       "      <td>20</td>\n",
       "      <td>26</td>\n",
       "    </tr>\n",
       "  </tbody>\n",
       "</table>\n",
       "</div>"
      ],
      "text/plain": [
       "toss_decision                bat  field\n",
       "toss_winner                            \n",
       "Chennai Super Kings           48     41\n",
       "Deccan Chargers               24     19\n",
       "Delhi Capitals                 2      8\n",
       "Delhi Daredevils              29     51\n",
       "Gujarat Lions                  1     14\n",
       "Kings XI Punjab               26     55\n",
       "Kochi Tuskers Kerala           3      5\n",
       "Kolkata Knight Riders         30     62\n",
       "Mumbai Indians                44     54\n",
       "Pune Warriors                 11      9\n",
       "Rajasthan Royals              32     48\n",
       "Rising Pune Supergiant         0      6\n",
       "Rising Pune Supergiants        3      4\n",
       "Royal Challengers Bangalore   20     61\n",
       "Sunrisers Hyderabad           20     26"
      ]
     },
     "execution_count": 22,
     "metadata": {},
     "output_type": "execute_result"
    }
   ],
   "source": [
    "pd.crosstab(df['toss_winner'],df['toss_decision'])"
   ]
  },
  {
   "cell_type": "code",
   "execution_count": null,
   "id": "1f94b3f5",
   "metadata": {},
   "outputs": [],
   "source": []
  }
 ],
 "metadata": {
  "kernelspec": {
   "display_name": "Python 3 (ipykernel)",
   "language": "python",
   "name": "python3"
  },
  "language_info": {
   "codemirror_mode": {
    "name": "ipython",
    "version": 3
   },
   "file_extension": ".py",
   "mimetype": "text/x-python",
   "name": "python",
   "nbconvert_exporter": "python",
   "pygments_lexer": "ipython3",
   "version": "3.9.12"
  }
 },
 "nbformat": 4,
 "nbformat_minor": 5
}
