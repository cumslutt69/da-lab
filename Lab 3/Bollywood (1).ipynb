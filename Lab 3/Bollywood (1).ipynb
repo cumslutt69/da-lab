{
 "cells": [
  {
   "cell_type": "code",
   "execution_count": 1,
   "id": "af83ed45",
   "metadata": {},
   "outputs": [],
   "source": [
    "import pandas as pd"
   ]
  },
  {
   "cell_type": "code",
   "execution_count": 2,
   "id": "21e9bd96",
   "metadata": {},
   "outputs": [],
   "source": [
    "import matplotlib.pyplot as plt"
   ]
  },
  {
   "cell_type": "code",
   "execution_count": 3,
   "id": "245ed319",
   "metadata": {},
   "outputs": [
    {
     "data": {
      "text/html": [
       "<div>\n",
       "<style scoped>\n",
       "    .dataframe tbody tr th:only-of-type {\n",
       "        vertical-align: middle;\n",
       "    }\n",
       "\n",
       "    .dataframe tbody tr th {\n",
       "        vertical-align: top;\n",
       "    }\n",
       "\n",
       "    .dataframe thead th {\n",
       "        text-align: right;\n",
       "    }\n",
       "</style>\n",
       "<table border=\"1\" class=\"dataframe\">\n",
       "  <thead>\n",
       "    <tr style=\"text-align: right;\">\n",
       "      <th></th>\n",
       "      <th>SlNo</th>\n",
       "      <th>Release Date</th>\n",
       "      <th>MovieName</th>\n",
       "      <th>ReleaseTime</th>\n",
       "      <th>Genre</th>\n",
       "      <th>Budget</th>\n",
       "      <th>BoxOfficeCollection</th>\n",
       "      <th>YoutubeViews</th>\n",
       "      <th>YoutubeLikes</th>\n",
       "      <th>YoutubeDislikes</th>\n",
       "    </tr>\n",
       "  </thead>\n",
       "  <tbody>\n",
       "    <tr>\n",
       "      <th>0</th>\n",
       "      <td>1</td>\n",
       "      <td>18-Apr-14</td>\n",
       "      <td>2 States</td>\n",
       "      <td>LW</td>\n",
       "      <td>Romance</td>\n",
       "      <td>36</td>\n",
       "      <td>104.00</td>\n",
       "      <td>8576361</td>\n",
       "      <td>26622</td>\n",
       "      <td>2527</td>\n",
       "    </tr>\n",
       "    <tr>\n",
       "      <th>1</th>\n",
       "      <td>2</td>\n",
       "      <td>4-Jan-13</td>\n",
       "      <td>Table No. 21</td>\n",
       "      <td>N</td>\n",
       "      <td>Thriller</td>\n",
       "      <td>10</td>\n",
       "      <td>12.00</td>\n",
       "      <td>1087320</td>\n",
       "      <td>1129</td>\n",
       "      <td>137</td>\n",
       "    </tr>\n",
       "    <tr>\n",
       "      <th>2</th>\n",
       "      <td>3</td>\n",
       "      <td>18-Jul-14</td>\n",
       "      <td>Amit Sahni Ki List</td>\n",
       "      <td>N</td>\n",
       "      <td>Comedy</td>\n",
       "      <td>10</td>\n",
       "      <td>4.00</td>\n",
       "      <td>572336</td>\n",
       "      <td>586</td>\n",
       "      <td>54</td>\n",
       "    </tr>\n",
       "    <tr>\n",
       "      <th>3</th>\n",
       "      <td>4</td>\n",
       "      <td>4-Jan-13</td>\n",
       "      <td>Rajdhani Express</td>\n",
       "      <td>N</td>\n",
       "      <td>Drama</td>\n",
       "      <td>7</td>\n",
       "      <td>0.35</td>\n",
       "      <td>42626</td>\n",
       "      <td>86</td>\n",
       "      <td>19</td>\n",
       "    </tr>\n",
       "    <tr>\n",
       "      <th>4</th>\n",
       "      <td>5</td>\n",
       "      <td>4-Jul-14</td>\n",
       "      <td>Bobby Jasoos</td>\n",
       "      <td>N</td>\n",
       "      <td>Comedy</td>\n",
       "      <td>18</td>\n",
       "      <td>10.80</td>\n",
       "      <td>3113427</td>\n",
       "      <td>4512</td>\n",
       "      <td>1224</td>\n",
       "    </tr>\n",
       "    <tr>\n",
       "      <th>...</th>\n",
       "      <td>...</td>\n",
       "      <td>...</td>\n",
       "      <td>...</td>\n",
       "      <td>...</td>\n",
       "      <td>...</td>\n",
       "      <td>...</td>\n",
       "      <td>...</td>\n",
       "      <td>...</td>\n",
       "      <td>...</td>\n",
       "      <td>...</td>\n",
       "    </tr>\n",
       "    <tr>\n",
       "      <th>144</th>\n",
       "      <td>145</td>\n",
       "      <td>27-Feb-15</td>\n",
       "      <td>Dum Laga Ke Haisha</td>\n",
       "      <td>N</td>\n",
       "      <td>Comedy</td>\n",
       "      <td>15</td>\n",
       "      <td>30.00</td>\n",
       "      <td>3250917</td>\n",
       "      <td>8185</td>\n",
       "      <td>615</td>\n",
       "    </tr>\n",
       "    <tr>\n",
       "      <th>145</th>\n",
       "      <td>146</td>\n",
       "      <td>13-Mar-15</td>\n",
       "      <td>NH10</td>\n",
       "      <td>N</td>\n",
       "      <td>Thriller</td>\n",
       "      <td>13</td>\n",
       "      <td>32.10</td>\n",
       "      <td>5592977</td>\n",
       "      <td>15464</td>\n",
       "      <td>1513</td>\n",
       "    </tr>\n",
       "    <tr>\n",
       "      <th>146</th>\n",
       "      <td>147</td>\n",
       "      <td>20-Mar-15</td>\n",
       "      <td>Dilliwali Zaalim Girlfriend</td>\n",
       "      <td>N</td>\n",
       "      <td>Comedy</td>\n",
       "      <td>32</td>\n",
       "      <td>12.00</td>\n",
       "      <td>2316047</td>\n",
       "      <td>4289</td>\n",
       "      <td>807</td>\n",
       "    </tr>\n",
       "    <tr>\n",
       "      <th>147</th>\n",
       "      <td>148</td>\n",
       "      <td>20-Mar-15</td>\n",
       "      <td>Hunterrr</td>\n",
       "      <td>N</td>\n",
       "      <td>Comedy</td>\n",
       "      <td>5</td>\n",
       "      <td>11.89</td>\n",
       "      <td>4674795</td>\n",
       "      <td>3706</td>\n",
       "      <td>762</td>\n",
       "    </tr>\n",
       "    <tr>\n",
       "      <th>148</th>\n",
       "      <td>149</td>\n",
       "      <td>23-May-14</td>\n",
       "      <td>Kochadaiiyaan</td>\n",
       "      <td>HS</td>\n",
       "      <td>Action</td>\n",
       "      <td>150</td>\n",
       "      <td>120.00</td>\n",
       "      <td>4740727</td>\n",
       "      <td>13466</td>\n",
       "      <td>2649</td>\n",
       "    </tr>\n",
       "  </tbody>\n",
       "</table>\n",
       "<p>149 rows × 10 columns</p>\n",
       "</div>"
      ],
      "text/plain": [
       "     SlNo Release Date                    MovieName ReleaseTime      Genre  \\\n",
       "0       1    18-Apr-14                     2 States          LW    Romance   \n",
       "1       2     4-Jan-13                 Table No. 21           N  Thriller    \n",
       "2       3    18-Jul-14           Amit Sahni Ki List           N     Comedy   \n",
       "3       4     4-Jan-13             Rajdhani Express           N     Drama    \n",
       "4       5     4-Jul-14                 Bobby Jasoos           N     Comedy   \n",
       "..    ...          ...                          ...         ...        ...   \n",
       "144   145    27-Feb-15           Dum Laga Ke Haisha           N     Comedy   \n",
       "145   146    13-Mar-15                         NH10           N   Thriller   \n",
       "146   147    20-Mar-15  Dilliwali Zaalim Girlfriend           N     Comedy   \n",
       "147   148    20-Mar-15                     Hunterrr           N     Comedy   \n",
       "148   149    23-May-14                Kochadaiiyaan          HS     Action   \n",
       "\n",
       "     Budget  BoxOfficeCollection  YoutubeViews  YoutubeLikes  YoutubeDislikes  \n",
       "0        36               104.00       8576361         26622             2527  \n",
       "1        10                12.00       1087320          1129              137  \n",
       "2        10                 4.00        572336           586               54  \n",
       "3         7                 0.35         42626            86               19  \n",
       "4        18                10.80       3113427          4512             1224  \n",
       "..      ...                  ...           ...           ...              ...  \n",
       "144      15                30.00       3250917          8185              615  \n",
       "145      13                32.10       5592977         15464             1513  \n",
       "146      32                12.00       2316047          4289              807  \n",
       "147       5                11.89       4674795          3706              762  \n",
       "148     150               120.00       4740727         13466             2649  \n",
       "\n",
       "[149 rows x 10 columns]"
      ]
     },
     "execution_count": 3,
     "metadata": {},
     "output_type": "execute_result"
    }
   ],
   "source": [
    "df= pd.read_csv('bollywood.csv')\n",
    "df"
   ]
  },
  {
   "cell_type": "code",
   "execution_count": 4,
   "id": "feb94c1e",
   "metadata": {},
   "outputs": [
    {
     "data": {
      "text/plain": [
       "149"
      ]
     },
     "execution_count": 4,
     "metadata": {},
     "output_type": "execute_result"
    }
   ],
   "source": [
    "df.shape[0]"
   ]
  },
  {
   "cell_type": "code",
   "execution_count": 5,
   "id": "94218a6f",
   "metadata": {},
   "outputs": [],
   "source": [
    "df.Genre = df.Genre.str.strip()"
   ]
  },
  {
   "cell_type": "code",
   "execution_count": 6,
   "id": "d5dc99ab",
   "metadata": {
    "scrolled": true
   },
   "outputs": [
    {
     "data": {
      "text/plain": [
       "Comedy      36\n",
       "Drama       35\n",
       "Thriller    29\n",
       "Romance     25\n",
       "Action      24\n",
       "Name: Genre, dtype: int64"
      ]
     },
     "execution_count": 6,
     "metadata": {},
     "output_type": "execute_result"
    }
   ],
   "source": [
    "val=df['Genre'].value_counts()\n",
    "val"
   ]
  },
  {
   "cell_type": "code",
   "execution_count": 7,
   "id": "2f0706e3",
   "metadata": {},
   "outputs": [
    {
     "data": {
      "text/plain": [
       "Comedy    36\n",
       "Name: Genre, dtype: int64"
      ]
     },
     "execution_count": 7,
     "metadata": {},
     "output_type": "execute_result"
    }
   ],
   "source": [
    "val.loc[val==val.max()]"
   ]
  },
  {
   "cell_type": "code",
   "execution_count": 8,
   "id": "a9bab65b",
   "metadata": {},
   "outputs": [
    {
     "data": {
      "text/html": [
       "<div>\n",
       "<style scoped>\n",
       "    .dataframe tbody tr th:only-of-type {\n",
       "        vertical-align: middle;\n",
       "    }\n",
       "\n",
       "    .dataframe tbody tr th {\n",
       "        vertical-align: top;\n",
       "    }\n",
       "\n",
       "    .dataframe thead th {\n",
       "        text-align: right;\n",
       "    }\n",
       "</style>\n",
       "<table border=\"1\" class=\"dataframe\">\n",
       "  <thead>\n",
       "    <tr style=\"text-align: right;\">\n",
       "      <th>ReleaseTime</th>\n",
       "      <th>FS</th>\n",
       "      <th>HS</th>\n",
       "      <th>LW</th>\n",
       "      <th>N</th>\n",
       "    </tr>\n",
       "    <tr>\n",
       "      <th>Genre</th>\n",
       "      <th></th>\n",
       "      <th></th>\n",
       "      <th></th>\n",
       "      <th></th>\n",
       "    </tr>\n",
       "  </thead>\n",
       "  <tbody>\n",
       "    <tr>\n",
       "      <th>Action</th>\n",
       "      <td>3</td>\n",
       "      <td>3</td>\n",
       "      <td>3</td>\n",
       "      <td>15</td>\n",
       "    </tr>\n",
       "    <tr>\n",
       "      <th>Comedy</th>\n",
       "      <td>3</td>\n",
       "      <td>5</td>\n",
       "      <td>5</td>\n",
       "      <td>23</td>\n",
       "    </tr>\n",
       "    <tr>\n",
       "      <th>Drama</th>\n",
       "      <td>4</td>\n",
       "      <td>6</td>\n",
       "      <td>1</td>\n",
       "      <td>24</td>\n",
       "    </tr>\n",
       "    <tr>\n",
       "      <th>Romance</th>\n",
       "      <td>3</td>\n",
       "      <td>3</td>\n",
       "      <td>4</td>\n",
       "      <td>15</td>\n",
       "    </tr>\n",
       "    <tr>\n",
       "      <th>Thriller</th>\n",
       "      <td>4</td>\n",
       "      <td>1</td>\n",
       "      <td>2</td>\n",
       "      <td>22</td>\n",
       "    </tr>\n",
       "  </tbody>\n",
       "</table>\n",
       "</div>"
      ],
      "text/plain": [
       "ReleaseTime  FS  HS  LW   N\n",
       "Genre                      \n",
       "Action        3   3   3  15\n",
       "Comedy        3   5   5  23\n",
       "Drama         4   6   1  24\n",
       "Romance       3   3   4  15\n",
       "Thriller      4   1   2  22"
      ]
     },
     "execution_count": 8,
     "metadata": {},
     "output_type": "execute_result"
    }
   ],
   "source": [
    "pd.crosstab(df['Genre'],df['ReleaseTime'])"
   ]
  },
  {
   "cell_type": "code",
   "execution_count": 10,
   "id": "f215ac3a",
   "metadata": {},
   "outputs": [
    {
     "data": {
      "text/plain": [
       "0     2014-04-18\n",
       "1     2013-01-04\n",
       "2     2014-07-18\n",
       "3     2013-01-04\n",
       "4     2014-07-04\n",
       "         ...    \n",
       "144   2015-02-27\n",
       "145   2015-03-13\n",
       "146   2015-03-20\n",
       "147   2015-03-20\n",
       "148   2014-05-23\n",
       "Name: Release Date, Length: 149, dtype: datetime64[ns]"
      ]
     },
     "execution_count": 10,
     "metadata": {},
     "output_type": "execute_result"
    }
   ],
   "source": [
    "df[\"Release Date\"]=pd.to_datetime(df[\"Release Date\"])\n",
    "df[\"Release Date\"]"
   ]
  },
  {
   "cell_type": "code",
   "execution_count": 11,
   "id": "33248d35",
   "metadata": {},
   "outputs": [],
   "source": [
    "df[\"month\"]=df[\"Release Date\"].dt.month"
   ]
  },
  {
   "cell_type": "code",
   "execution_count": 12,
   "id": "7683e24d",
   "metadata": {},
   "outputs": [
    {
     "data": {
      "text/html": [
       "<div>\n",
       "<style scoped>\n",
       "    .dataframe tbody tr th:only-of-type {\n",
       "        vertical-align: middle;\n",
       "    }\n",
       "\n",
       "    .dataframe tbody tr th {\n",
       "        vertical-align: top;\n",
       "    }\n",
       "\n",
       "    .dataframe thead th {\n",
       "        text-align: right;\n",
       "    }\n",
       "</style>\n",
       "<table border=\"1\" class=\"dataframe\">\n",
       "  <thead>\n",
       "    <tr style=\"text-align: right;\">\n",
       "      <th></th>\n",
       "      <th>SlNo</th>\n",
       "      <th>Release Date</th>\n",
       "      <th>MovieName</th>\n",
       "      <th>ReleaseTime</th>\n",
       "      <th>Genre</th>\n",
       "      <th>Budget</th>\n",
       "      <th>BoxOfficeCollection</th>\n",
       "      <th>YoutubeViews</th>\n",
       "      <th>YoutubeLikes</th>\n",
       "      <th>YoutubeDislikes</th>\n",
       "      <th>month</th>\n",
       "    </tr>\n",
       "  </thead>\n",
       "  <tbody>\n",
       "    <tr>\n",
       "      <th>0</th>\n",
       "      <td>1</td>\n",
       "      <td>2014-04-18</td>\n",
       "      <td>2 States</td>\n",
       "      <td>LW</td>\n",
       "      <td>Romance</td>\n",
       "      <td>36</td>\n",
       "      <td>104.00</td>\n",
       "      <td>8576361</td>\n",
       "      <td>26622</td>\n",
       "      <td>2527</td>\n",
       "      <td>4</td>\n",
       "    </tr>\n",
       "    <tr>\n",
       "      <th>1</th>\n",
       "      <td>2</td>\n",
       "      <td>2013-01-04</td>\n",
       "      <td>Table No. 21</td>\n",
       "      <td>N</td>\n",
       "      <td>Thriller</td>\n",
       "      <td>10</td>\n",
       "      <td>12.00</td>\n",
       "      <td>1087320</td>\n",
       "      <td>1129</td>\n",
       "      <td>137</td>\n",
       "      <td>1</td>\n",
       "    </tr>\n",
       "    <tr>\n",
       "      <th>2</th>\n",
       "      <td>3</td>\n",
       "      <td>2014-07-18</td>\n",
       "      <td>Amit Sahni Ki List</td>\n",
       "      <td>N</td>\n",
       "      <td>Comedy</td>\n",
       "      <td>10</td>\n",
       "      <td>4.00</td>\n",
       "      <td>572336</td>\n",
       "      <td>586</td>\n",
       "      <td>54</td>\n",
       "      <td>7</td>\n",
       "    </tr>\n",
       "    <tr>\n",
       "      <th>3</th>\n",
       "      <td>4</td>\n",
       "      <td>2013-01-04</td>\n",
       "      <td>Rajdhani Express</td>\n",
       "      <td>N</td>\n",
       "      <td>Drama</td>\n",
       "      <td>7</td>\n",
       "      <td>0.35</td>\n",
       "      <td>42626</td>\n",
       "      <td>86</td>\n",
       "      <td>19</td>\n",
       "      <td>1</td>\n",
       "    </tr>\n",
       "    <tr>\n",
       "      <th>4</th>\n",
       "      <td>5</td>\n",
       "      <td>2014-07-04</td>\n",
       "      <td>Bobby Jasoos</td>\n",
       "      <td>N</td>\n",
       "      <td>Comedy</td>\n",
       "      <td>18</td>\n",
       "      <td>10.80</td>\n",
       "      <td>3113427</td>\n",
       "      <td>4512</td>\n",
       "      <td>1224</td>\n",
       "      <td>7</td>\n",
       "    </tr>\n",
       "    <tr>\n",
       "      <th>...</th>\n",
       "      <td>...</td>\n",
       "      <td>...</td>\n",
       "      <td>...</td>\n",
       "      <td>...</td>\n",
       "      <td>...</td>\n",
       "      <td>...</td>\n",
       "      <td>...</td>\n",
       "      <td>...</td>\n",
       "      <td>...</td>\n",
       "      <td>...</td>\n",
       "      <td>...</td>\n",
       "    </tr>\n",
       "    <tr>\n",
       "      <th>144</th>\n",
       "      <td>145</td>\n",
       "      <td>2015-02-27</td>\n",
       "      <td>Dum Laga Ke Haisha</td>\n",
       "      <td>N</td>\n",
       "      <td>Comedy</td>\n",
       "      <td>15</td>\n",
       "      <td>30.00</td>\n",
       "      <td>3250917</td>\n",
       "      <td>8185</td>\n",
       "      <td>615</td>\n",
       "      <td>2</td>\n",
       "    </tr>\n",
       "    <tr>\n",
       "      <th>145</th>\n",
       "      <td>146</td>\n",
       "      <td>2015-03-13</td>\n",
       "      <td>NH10</td>\n",
       "      <td>N</td>\n",
       "      <td>Thriller</td>\n",
       "      <td>13</td>\n",
       "      <td>32.10</td>\n",
       "      <td>5592977</td>\n",
       "      <td>15464</td>\n",
       "      <td>1513</td>\n",
       "      <td>3</td>\n",
       "    </tr>\n",
       "    <tr>\n",
       "      <th>146</th>\n",
       "      <td>147</td>\n",
       "      <td>2015-03-20</td>\n",
       "      <td>Dilliwali Zaalim Girlfriend</td>\n",
       "      <td>N</td>\n",
       "      <td>Comedy</td>\n",
       "      <td>32</td>\n",
       "      <td>12.00</td>\n",
       "      <td>2316047</td>\n",
       "      <td>4289</td>\n",
       "      <td>807</td>\n",
       "      <td>3</td>\n",
       "    </tr>\n",
       "    <tr>\n",
       "      <th>147</th>\n",
       "      <td>148</td>\n",
       "      <td>2015-03-20</td>\n",
       "      <td>Hunterrr</td>\n",
       "      <td>N</td>\n",
       "      <td>Comedy</td>\n",
       "      <td>5</td>\n",
       "      <td>11.89</td>\n",
       "      <td>4674795</td>\n",
       "      <td>3706</td>\n",
       "      <td>762</td>\n",
       "      <td>3</td>\n",
       "    </tr>\n",
       "    <tr>\n",
       "      <th>148</th>\n",
       "      <td>149</td>\n",
       "      <td>2014-05-23</td>\n",
       "      <td>Kochadaiiyaan</td>\n",
       "      <td>HS</td>\n",
       "      <td>Action</td>\n",
       "      <td>150</td>\n",
       "      <td>120.00</td>\n",
       "      <td>4740727</td>\n",
       "      <td>13466</td>\n",
       "      <td>2649</td>\n",
       "      <td>5</td>\n",
       "    </tr>\n",
       "  </tbody>\n",
       "</table>\n",
       "<p>149 rows × 11 columns</p>\n",
       "</div>"
      ],
      "text/plain": [
       "     SlNo Release Date                    MovieName ReleaseTime     Genre  \\\n",
       "0       1   2014-04-18                     2 States          LW   Romance   \n",
       "1       2   2013-01-04                 Table No. 21           N  Thriller   \n",
       "2       3   2014-07-18           Amit Sahni Ki List           N    Comedy   \n",
       "3       4   2013-01-04             Rajdhani Express           N     Drama   \n",
       "4       5   2014-07-04                 Bobby Jasoos           N    Comedy   \n",
       "..    ...          ...                          ...         ...       ...   \n",
       "144   145   2015-02-27           Dum Laga Ke Haisha           N    Comedy   \n",
       "145   146   2015-03-13                         NH10           N  Thriller   \n",
       "146   147   2015-03-20  Dilliwali Zaalim Girlfriend           N    Comedy   \n",
       "147   148   2015-03-20                     Hunterrr           N    Comedy   \n",
       "148   149   2014-05-23                Kochadaiiyaan          HS    Action   \n",
       "\n",
       "     Budget  BoxOfficeCollection  YoutubeViews  YoutubeLikes  YoutubeDislikes  \\\n",
       "0        36               104.00       8576361         26622             2527   \n",
       "1        10                12.00       1087320          1129              137   \n",
       "2        10                 4.00        572336           586               54   \n",
       "3         7                 0.35         42626            86               19   \n",
       "4        18                10.80       3113427          4512             1224   \n",
       "..      ...                  ...           ...           ...              ...   \n",
       "144      15                30.00       3250917          8185              615   \n",
       "145      13                32.10       5592977         15464             1513   \n",
       "146      32                12.00       2316047          4289              807   \n",
       "147       5                11.89       4674795          3706              762   \n",
       "148     150               120.00       4740727         13466             2649   \n",
       "\n",
       "     month  \n",
       "0        4  \n",
       "1        1  \n",
       "2        7  \n",
       "3        1  \n",
       "4        7  \n",
       "..     ...  \n",
       "144      2  \n",
       "145      3  \n",
       "146      3  \n",
       "147      3  \n",
       "148      5  \n",
       "\n",
       "[149 rows x 11 columns]"
      ]
     },
     "execution_count": 12,
     "metadata": {},
     "output_type": "execute_result"
    }
   ],
   "source": [
    "df"
   ]
  },
  {
   "cell_type": "code",
   "execution_count": 13,
   "id": "566fd67d",
   "metadata": {},
   "outputs": [
    {
     "data": {
      "text/plain": [
       "1     20\n",
       "3     19\n",
       "5     18\n",
       "7     16\n",
       "2     16\n",
       "4     11\n",
       "9     10\n",
       "6     10\n",
       "11    10\n",
       "10     9\n",
       "8      8\n",
       "12     2\n",
       "Name: month, dtype: int64"
      ]
     },
     "execution_count": 13,
     "metadata": {},
     "output_type": "execute_result"
    }
   ],
   "source": [
    "mx= df[\"month\"].value_counts()\n",
    "mx\n"
   ]
  },
  {
   "cell_type": "code",
   "execution_count": 14,
   "id": "f8dfec2a",
   "metadata": {},
   "outputs": [
    {
     "data": {
      "text/plain": [
       "1    20\n",
       "Name: month, dtype: int64"
      ]
     },
     "execution_count": 14,
     "metadata": {},
     "output_type": "execute_result"
    }
   ],
   "source": [
    "mx.loc[mx==mx.max()]"
   ]
  },
  {
   "cell_type": "code",
   "execution_count": 15,
   "id": "9f2ce99e",
   "metadata": {},
   "outputs": [
    {
     "data": {
      "text/plain": [
       "2     9\n",
       "1     8\n",
       "3     7\n",
       "8     7\n",
       "11    6\n",
       "7     6\n",
       "9     5\n",
       "6     5\n",
       "4     4\n",
       "10    4\n",
       "5     3\n",
       "12    2\n",
       "Name: month, dtype: int64"
      ]
     },
     "execution_count": 15,
     "metadata": {},
     "output_type": "execute_result"
    }
   ],
   "source": [
    "v=df[df[\"Budget\"]>=25][\"month\"].value_counts()\n",
    "v"
   ]
  },
  {
   "cell_type": "code",
   "execution_count": 16,
   "id": "001c6a6a",
   "metadata": {},
   "outputs": [
    {
     "data": {
      "text/plain": [
       "2    9\n",
       "Name: month, dtype: int64"
      ]
     },
     "execution_count": 16,
     "metadata": {},
     "output_type": "execute_result"
    }
   ],
   "source": [
    "v.loc[v==v.max()]"
   ]
  },
  {
   "cell_type": "code",
   "execution_count": 17,
   "id": "3f414495",
   "metadata": {},
   "outputs": [],
   "source": [
    "df[\"ROI\"]=(df[\"BoxOfficeCollection\"]-df[\"Budget\"])/df[\"Budget\"]"
   ]
  },
  {
   "cell_type": "code",
   "execution_count": 18,
   "id": "56003578",
   "metadata": {},
   "outputs": [
    {
     "data": {
      "text/html": [
       "<div>\n",
       "<style scoped>\n",
       "    .dataframe tbody tr th:only-of-type {\n",
       "        vertical-align: middle;\n",
       "    }\n",
       "\n",
       "    .dataframe tbody tr th {\n",
       "        vertical-align: top;\n",
       "    }\n",
       "\n",
       "    .dataframe thead th {\n",
       "        text-align: right;\n",
       "    }\n",
       "</style>\n",
       "<table border=\"1\" class=\"dataframe\">\n",
       "  <thead>\n",
       "    <tr style=\"text-align: right;\">\n",
       "      <th></th>\n",
       "      <th>SlNo</th>\n",
       "      <th>Release Date</th>\n",
       "      <th>MovieName</th>\n",
       "      <th>ReleaseTime</th>\n",
       "      <th>Genre</th>\n",
       "      <th>Budget</th>\n",
       "      <th>BoxOfficeCollection</th>\n",
       "      <th>YoutubeViews</th>\n",
       "      <th>YoutubeLikes</th>\n",
       "      <th>YoutubeDislikes</th>\n",
       "      <th>month</th>\n",
       "      <th>ROI</th>\n",
       "    </tr>\n",
       "  </thead>\n",
       "  <tbody>\n",
       "    <tr>\n",
       "      <th>115</th>\n",
       "      <td>116</td>\n",
       "      <td>2013-08-09</td>\n",
       "      <td>Chennai Express</td>\n",
       "      <td>FS</td>\n",
       "      <td>Comedy</td>\n",
       "      <td>75</td>\n",
       "      <td>395.0</td>\n",
       "      <td>1882346</td>\n",
       "      <td>7954</td>\n",
       "      <td>1593</td>\n",
       "      <td>8</td>\n",
       "      <td>4.266667</td>\n",
       "    </tr>\n",
       "    <tr>\n",
       "      <th>101</th>\n",
       "      <td>102</td>\n",
       "      <td>2013-07-12</td>\n",
       "      <td>Bhaag Milkha Bhaag</td>\n",
       "      <td>N</td>\n",
       "      <td>Drama</td>\n",
       "      <td>30</td>\n",
       "      <td>164.0</td>\n",
       "      <td>2635390</td>\n",
       "      <td>4622</td>\n",
       "      <td>456</td>\n",
       "      <td>7</td>\n",
       "      <td>4.466667</td>\n",
       "    </tr>\n",
       "    <tr>\n",
       "      <th>37</th>\n",
       "      <td>38</td>\n",
       "      <td>2014-07-11</td>\n",
       "      <td>Humpty Sharma Ki Dulhania</td>\n",
       "      <td>N</td>\n",
       "      <td>Romance</td>\n",
       "      <td>20</td>\n",
       "      <td>130.0</td>\n",
       "      <td>6604595</td>\n",
       "      <td>14535</td>\n",
       "      <td>2208</td>\n",
       "      <td>7</td>\n",
       "      <td>5.500000</td>\n",
       "    </tr>\n",
       "    <tr>\n",
       "      <th>128</th>\n",
       "      <td>129</td>\n",
       "      <td>2013-10-18</td>\n",
       "      <td>Shahid</td>\n",
       "      <td>FS</td>\n",
       "      <td>Drama</td>\n",
       "      <td>6</td>\n",
       "      <td>40.0</td>\n",
       "      <td>1148516</td>\n",
       "      <td>3155</td>\n",
       "      <td>396</td>\n",
       "      <td>10</td>\n",
       "      <td>5.666667</td>\n",
       "    </tr>\n",
       "    <tr>\n",
       "      <th>58</th>\n",
       "      <td>59</td>\n",
       "      <td>2014-09-05</td>\n",
       "      <td>Mary Kom</td>\n",
       "      <td>N</td>\n",
       "      <td>Drama</td>\n",
       "      <td>15</td>\n",
       "      <td>104.0</td>\n",
       "      <td>6086811</td>\n",
       "      <td>26560</td>\n",
       "      <td>1647</td>\n",
       "      <td>9</td>\n",
       "      <td>5.933333</td>\n",
       "    </tr>\n",
       "    <tr>\n",
       "      <th>87</th>\n",
       "      <td>88</td>\n",
       "      <td>2013-06-14</td>\n",
       "      <td>Fukrey</td>\n",
       "      <td>N</td>\n",
       "      <td>Comedy</td>\n",
       "      <td>5</td>\n",
       "      <td>36.2</td>\n",
       "      <td>227912</td>\n",
       "      <td>222</td>\n",
       "      <td>39</td>\n",
       "      <td>6</td>\n",
       "      <td>6.240000</td>\n",
       "    </tr>\n",
       "    <tr>\n",
       "      <th>135</th>\n",
       "      <td>136</td>\n",
       "      <td>2013-09-20</td>\n",
       "      <td>The Lunchbox</td>\n",
       "      <td>N</td>\n",
       "      <td>Drama</td>\n",
       "      <td>10</td>\n",
       "      <td>85.0</td>\n",
       "      <td>1064854</td>\n",
       "      <td>4054</td>\n",
       "      <td>285</td>\n",
       "      <td>9</td>\n",
       "      <td>7.500000</td>\n",
       "    </tr>\n",
       "    <tr>\n",
       "      <th>132</th>\n",
       "      <td>133</td>\n",
       "      <td>2013-09-13</td>\n",
       "      <td>Grand Masti</td>\n",
       "      <td>LW</td>\n",
       "      <td>Comedy</td>\n",
       "      <td>35</td>\n",
       "      <td>298.0</td>\n",
       "      <td>1795640</td>\n",
       "      <td>3015</td>\n",
       "      <td>721</td>\n",
       "      <td>9</td>\n",
       "      <td>7.514286</td>\n",
       "    </tr>\n",
       "    <tr>\n",
       "      <th>89</th>\n",
       "      <td>90</td>\n",
       "      <td>2014-12-19</td>\n",
       "      <td>PK</td>\n",
       "      <td>HS</td>\n",
       "      <td>Drama</td>\n",
       "      <td>85</td>\n",
       "      <td>735.0</td>\n",
       "      <td>13270623</td>\n",
       "      <td>43767</td>\n",
       "      <td>5693</td>\n",
       "      <td>12</td>\n",
       "      <td>7.647059</td>\n",
       "    </tr>\n",
       "    <tr>\n",
       "      <th>64</th>\n",
       "      <td>65</td>\n",
       "      <td>2013-04-26</td>\n",
       "      <td>Aashiqui 2</td>\n",
       "      <td>N</td>\n",
       "      <td>Romance</td>\n",
       "      <td>12</td>\n",
       "      <td>110.0</td>\n",
       "      <td>2926673</td>\n",
       "      <td>4944</td>\n",
       "      <td>628</td>\n",
       "      <td>4</td>\n",
       "      <td>8.166667</td>\n",
       "    </tr>\n",
       "  </tbody>\n",
       "</table>\n",
       "</div>"
      ],
      "text/plain": [
       "     SlNo Release Date                  MovieName ReleaseTime    Genre  \\\n",
       "115   116   2013-08-09            Chennai Express          FS   Comedy   \n",
       "101   102   2013-07-12         Bhaag Milkha Bhaag           N    Drama   \n",
       "37     38   2014-07-11  Humpty Sharma Ki Dulhania           N  Romance   \n",
       "128   129   2013-10-18                     Shahid          FS    Drama   \n",
       "58     59   2014-09-05                   Mary Kom           N    Drama   \n",
       "87     88   2013-06-14                     Fukrey           N   Comedy   \n",
       "135   136   2013-09-20               The Lunchbox           N    Drama   \n",
       "132   133   2013-09-13                Grand Masti          LW   Comedy   \n",
       "89     90   2014-12-19                         PK          HS    Drama   \n",
       "64     65   2013-04-26                 Aashiqui 2           N  Romance   \n",
       "\n",
       "     Budget  BoxOfficeCollection  YoutubeViews  YoutubeLikes  YoutubeDislikes  \\\n",
       "115      75                395.0       1882346          7954             1593   \n",
       "101      30                164.0       2635390          4622              456   \n",
       "37       20                130.0       6604595         14535             2208   \n",
       "128       6                 40.0       1148516          3155              396   \n",
       "58       15                104.0       6086811         26560             1647   \n",
       "87        5                 36.2        227912           222               39   \n",
       "135      10                 85.0       1064854          4054              285   \n",
       "132      35                298.0       1795640          3015              721   \n",
       "89       85                735.0      13270623         43767             5693   \n",
       "64       12                110.0       2926673          4944              628   \n",
       "\n",
       "     month       ROI  \n",
       "115      8  4.266667  \n",
       "101      7  4.466667  \n",
       "37       7  5.500000  \n",
       "128     10  5.666667  \n",
       "58       9  5.933333  \n",
       "87       6  6.240000  \n",
       "135      9  7.500000  \n",
       "132      9  7.514286  \n",
       "89      12  7.647059  \n",
       "64       4  8.166667  "
      ]
     },
     "execution_count": 18,
     "metadata": {},
     "output_type": "execute_result"
    }
   ],
   "source": [
    "df.sort_values(by='ROI').tail(10)"
   ]
  },
  {
   "cell_type": "code",
   "execution_count": 19,
   "id": "dfaaa68a",
   "metadata": {},
   "outputs": [
    {
     "data": {
      "text/plain": [
       "1.1272053098737973"
      ]
     },
     "execution_count": 19,
     "metadata": {},
     "output_type": "execute_result"
    }
   ],
   "source": [
    "roi_LW = df[df[\"ReleaseTime\"]==\"LW\"]\n",
    "roi_LW[\"ROI\"].mean()"
   ]
  },
  {
   "cell_type": "code",
   "execution_count": 20,
   "id": "a6818f62",
   "metadata": {},
   "outputs": [
    {
     "data": {
      "text/plain": [
       "0.9738532013595953"
      ]
     },
     "execution_count": 20,
     "metadata": {},
     "output_type": "execute_result"
    }
   ],
   "source": [
    "roi_FS = df[df[\"ReleaseTime\"]==\"FS\"]\n",
    "roi_FS[\"ROI\"].mean()"
   ]
  },
  {
   "cell_type": "code",
   "execution_count": 21,
   "id": "8f35b6c3",
   "metadata": {},
   "outputs": [
    {
     "data": {
      "text/plain": [
       "0.8508667840873724"
      ]
     },
     "execution_count": 21,
     "metadata": {},
     "output_type": "execute_result"
    }
   ],
   "source": [
    "roi_HS = df[df[\"ReleaseTime\"]==\"HS\"]\n",
    "roi_HS[\"ROI\"].mean()"
   ]
  },
  {
   "cell_type": "code",
   "execution_count": 22,
   "id": "0095052b",
   "metadata": {},
   "outputs": [
    {
     "data": {
      "text/plain": [
       "0.6577216305350877"
      ]
     },
     "execution_count": 22,
     "metadata": {},
     "output_type": "execute_result"
    }
   ],
   "source": [
    "roi_N = df[df[\"ReleaseTime\"]==\"N\"]\n",
    "roi_N[\"ROI\"].mean()"
   ]
  },
  {
   "cell_type": "code",
   "execution_count": 23,
   "id": "12d653d0",
   "metadata": {},
   "outputs": [
    {
     "data": {
      "text/plain": [
       "0.6825165877731297"
      ]
     },
     "execution_count": 23,
     "metadata": {},
     "output_type": "execute_result"
    }
   ],
   "source": [
    "corr = df[\"BoxOfficeCollection\"].corr(df[\"YoutubeLikes\"])\n",
    "corr"
   ]
  },
  {
   "cell_type": "markdown",
   "id": "f985f2fb",
   "metadata": {},
   "source": [
    "Yes there is a correlation and its positive."
   ]
  },
  {
   "cell_type": "code",
   "execution_count": 24,
   "id": "02ff06d1",
   "metadata": {},
   "outputs": [],
   "source": [
    "import seaborn as sn"
   ]
  },
  {
   "cell_type": "code",
   "execution_count": 25,
   "id": "6396e944",
   "metadata": {},
   "outputs": [
    {
     "data": {
      "text/plain": [
       "<AxesSubplot:xlabel='Genre', ylabel='YoutubeLikes'>"
      ]
     },
     "execution_count": 25,
     "metadata": {},
     "output_type": "execute_result"
    },
    {
     "data": {
      "image/png": "[encoded data removed]",
      "text/plain": [
       "<Figure size 432x288 with 1 Axes>"
      ]
     },
     "metadata": {
      "needs_background": "light"
     },
     "output_type": "display_data"
    }
   ],
   "source": [
    "sn.boxplot(x=\"Genre\",y=\"YoutubeLikes\",data=df)"
   ]
  },
  {
   "cell_type": "code",
   "execution_count": 26,
   "id": "6fa0e4a8",
   "metadata": {},
   "outputs": [
    {
     "data": {
      "text/plain": [
       "<seaborn.axisgrid.PairGrid at 0x184b985f400>"
      ]
     },
     "execution_count": 26,
     "metadata": {},
     "output_type": "execute_result"
    },
    {
     "data": {
      "image/png": "[encoded data removed]",
      "text/plain": [
       "<Figure size 900x900 with 30 Axes>"
      ]
     },
     "metadata": {
      "needs_background": "light"
     },
     "output_type": "display_data"
    }
   ],
   "source": [
    "sn.pairplot(df,kind='reg',vars=[\"Budget\",\"BoxOfficeCollection\",\"YoutubeViews\",\"YoutubeLikes\",\"YoutubeDislikes\"])"
   ]
  },
  {
   "cell_type": "code",
   "execution_count": 27,
   "id": "e53de58a",
   "metadata": {},
   "outputs": [
    {
     "data": {
      "text/html": [
       "<div>\n",
       "<style scoped>\n",
       "    .dataframe tbody tr th:only-of-type {\n",
       "        vertical-align: middle;\n",
       "    }\n",
       "\n",
       "    .dataframe tbody tr th {\n",
       "        vertical-align: top;\n",
       "    }\n",
       "\n",
       "    .dataframe thead th {\n",
       "        text-align: right;\n",
       "    }\n",
       "</style>\n",
       "<table border=\"1\" class=\"dataframe\">\n",
       "  <thead>\n",
       "    <tr style=\"text-align: right;\">\n",
       "      <th></th>\n",
       "      <th>Genre</th>\n",
       "      <th>BoxOfficeCollection</th>\n",
       "    </tr>\n",
       "  </thead>\n",
       "  <tbody>\n",
       "    <tr>\n",
       "      <th>0</th>\n",
       "      <td>Romance</td>\n",
       "      <td>104.00</td>\n",
       "    </tr>\n",
       "    <tr>\n",
       "      <th>1</th>\n",
       "      <td>Thriller</td>\n",
       "      <td>12.00</td>\n",
       "    </tr>\n",
       "    <tr>\n",
       "      <th>2</th>\n",
       "      <td>Comedy</td>\n",
       "      <td>4.00</td>\n",
       "    </tr>\n",
       "    <tr>\n",
       "      <th>3</th>\n",
       "      <td>Drama</td>\n",
       "      <td>0.35</td>\n",
       "    </tr>\n",
       "    <tr>\n",
       "      <th>4</th>\n",
       "      <td>Comedy</td>\n",
       "      <td>10.80</td>\n",
       "    </tr>\n",
       "    <tr>\n",
       "      <th>...</th>\n",
       "      <td>...</td>\n",
       "      <td>...</td>\n",
       "    </tr>\n",
       "    <tr>\n",
       "      <th>144</th>\n",
       "      <td>Comedy</td>\n",
       "      <td>30.00</td>\n",
       "    </tr>\n",
       "    <tr>\n",
       "      <th>145</th>\n",
       "      <td>Thriller</td>\n",
       "      <td>32.10</td>\n",
       "    </tr>\n",
       "    <tr>\n",
       "      <th>146</th>\n",
       "      <td>Comedy</td>\n",
       "      <td>12.00</td>\n",
       "    </tr>\n",
       "    <tr>\n",
       "      <th>147</th>\n",
       "      <td>Comedy</td>\n",
       "      <td>11.89</td>\n",
       "    </tr>\n",
       "    <tr>\n",
       "      <th>148</th>\n",
       "      <td>Action</td>\n",
       "      <td>120.00</td>\n",
       "    </tr>\n",
       "  </tbody>\n",
       "</table>\n",
       "<p>149 rows × 2 columns</p>\n",
       "</div>"
      ],
      "text/plain": [
       "        Genre  BoxOfficeCollection\n",
       "0     Romance               104.00\n",
       "1    Thriller                12.00\n",
       "2      Comedy                 4.00\n",
       "3       Drama                 0.35\n",
       "4      Comedy                10.80\n",
       "..        ...                  ...\n",
       "144    Comedy                30.00\n",
       "145  Thriller                32.10\n",
       "146    Comedy                12.00\n",
       "147    Comedy                11.89\n",
       "148    Action               120.00\n",
       "\n",
       "[149 rows x 2 columns]"
      ]
     },
     "execution_count": 27,
     "metadata": {},
     "output_type": "execute_result"
    }
   ],
   "source": [
    "gr = df[[\"Genre\",\"BoxOfficeCollection\"]]\n",
    "gr"
   ]
  },
  {
   "cell_type": "code",
   "execution_count": 28,
   "id": "24b24ceb",
   "metadata": {},
   "outputs": [
    {
     "data": {
      "text/plain": [
       "<AxesSubplot:xlabel='Genre', ylabel='BoxOfficeCollection'>"
      ]
     },
     "execution_count": 28,
     "metadata": {},
     "output_type": "execute_result"
    },
    {
     "data": {
      "image/png": "[encoded data removed]",
      "text/plain": [
       "<Figure size 432x288 with 1 Axes>"
      ]
     },
     "metadata": {
      "needs_background": "light"
     },
     "output_type": "display_data"
    }
   ],
   "source": [
    "sn.boxplot(x=\"Genre\",y=\"BoxOfficeCollection\",data=gr)"
   ]
  },
  {
   "cell_type": "code",
   "execution_count": 29,
   "id": "5a4aa349",
   "metadata": {},
   "outputs": [
    {
     "data": {
      "text/plain": [
       "<BarContainer object of 149 artists>"
      ]
     },
     "execution_count": 29,
     "metadata": {},
     "output_type": "execute_result"
    },
    {
     "data": {
      "image/png": "[encoded data removed]",
      "text/plain": [
       "<Figure size 432x288 with 1 Axes>"
      ]
     },
     "metadata": {
      "needs_background": "light"
     },
     "output_type": "display_data"
    }
   ],
   "source": [
    "plt.bar(df[\"Genre\"],df[\"BoxOfficeCollection\"])\n",
    "plt.bar(df[\"Genre\"],df[\"Budget\"])"
   ]
  },
  {
   "cell_type": "code",
   "execution_count": 30,
   "id": "0ccf0aca",
   "metadata": {},
   "outputs": [
    {
     "data": {
      "text/plain": [
       "<AxesSubplot:xlabel='Genre', ylabel='Budget'>"
      ]
     },
     "execution_count": 30,
     "metadata": {},
     "output_type": "execute_result"
    },
    {
     "data": {
      "image/png": "[encoded data removed]",
      "text/plain": [
       "<Figure size 432x288 with 1 Axes>"
      ]
     },
     "metadata": {
      "needs_background": "light"
     },
     "output_type": "display_data"
    },
    {
     "data": {
      "image/png": "[encoded data removed]",
      "text/plain": [
       "<Figure size 432x288 with 1 Axes>"
      ]
     },
     "metadata": {
      "needs_background": "light"
     },
     "output_type": "display_data"
    }
   ],
   "source": [
    "sn.boxplot(x='Genre',y='Budget',data=df)\n",
    "df.plot(x='Genre',y='Budget',kind=\"scatter\")"
   ]
  },
  {
   "cell_type": "code",
   "execution_count": 31,
   "id": "e439ca2c",
   "metadata": {},
   "outputs": [
    {
     "data": {
      "text/plain": [
       "2014    70\n",
       "2013    67\n",
       "2015    12\n",
       "Name: Release Date, dtype: int64"
      ]
     },
     "execution_count": 31,
     "metadata": {},
     "output_type": "execute_result"
    }
   ],
   "source": [
    "x=df[\"Release Date\"].dt.year.value_counts()\n",
    "x"
   ]
  },
  {
   "cell_type": "code",
   "execution_count": 32,
   "id": "b9c584d6",
   "metadata": {
    "scrolled": true
   },
   "outputs": [
    {
     "data": {
      "text/plain": [
       "<AxesSubplot:>"
      ]
     },
     "execution_count": 32,
     "metadata": {},
     "output_type": "execute_result"
    },
    {
     "data": {
      "image/png": "[encoded data removed]",
      "text/plain": [
       "<Figure size 432x288 with 1 Axes>"
      ]
     },
     "metadata": {
      "needs_background": "light"
     },
     "output_type": "display_data"
    }
   ],
   "source": [
    "x.plot(kind=\"bar\")"
   ]
  },
  {
   "cell_type": "code",
   "execution_count": null,
   "id": "d80c05a8",
   "metadata": {},
   "outputs": [],
   "source": []
  }
 ],
 "metadata": {
  "kernelspec": {
   "display_name": "Python 3 (ipykernel)",
   "language": "python",
   "name": "python3"
  },
  "language_info": {
   "codemirror_mode": {
    "name": "ipython",
    "version": 3
   },
   "file_extension": ".py",
   "mimetype": "text/x-python",
   "name": "python",
   "nbconvert_exporter": "python",
   "pygments_lexer": "ipython3",
   "version": "3.9.12"
  }
 },
 "nbformat": 4,
 "nbformat_minor": 5
}
